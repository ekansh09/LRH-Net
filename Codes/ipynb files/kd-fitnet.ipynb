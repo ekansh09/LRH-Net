{
 "cells": [
  {
   "cell_type": "code",
   "execution_count": null,
   "id": "6fa12bbd",
   "metadata": {
    "_cell_guid": "b1076dfc-b9ad-4769-8c92-a6c4dae69d19",
    "_uuid": "8f2839f25d086af736a60e9eeb907d3b93b6e0e5",
    "execution": {
     "iopub.execute_input": "2022-06-29T15:22:17.167711Z",
     "iopub.status.busy": "2022-06-29T15:22:17.166601Z",
     "iopub.status.idle": "2022-06-29T15:22:20.281129Z",
     "shell.execute_reply": "2022-06-29T15:22:20.279673Z",
     "shell.execute_reply.started": "2022-06-28T12:31:29.769584Z"
    },
    "papermill": {
     "duration": 3.195916,
     "end_time": "2022-06-29T15:22:20.281360",
     "exception": false,
     "start_time": "2022-06-29T15:22:17.085444",
     "status": "completed"
    },
    "tags": []
   },
   "outputs": [],
   "source": [
    "import torch\n",
    "import torch as T\n",
    "from torch.utils.data import Dataset, DataLoader\n",
    "from scipy.io import loadmat\n",
    "import numpy as np\n",
    "import pandas as pd\n",
    "import os\n",
    "from scipy.signal import resample\n",
    "from scipy.stats import zscore\n",
    "from sklearn.metrics import average_precision_score,precision_recall_curve,roc_curve\n",
    "import sklearn.metrics as skm\n",
    "import random\n",
    "from tqdm import tqdm\n",
    "import seaborn as sns\n",
    "import matplotlib.pyplot as plt\n",
    "import plotly.graph_objects as go\n",
    "from scipy.optimize import differential_evolution\n",
    "import copy\n",
    "from scipy import signal\n"
   ]
  },
  {
   "cell_type": "code",
   "execution_count": null,
   "id": "c380873d",
   "metadata": {
    "execution": {
     "iopub.execute_input": "2022-06-29T15:22:20.437192Z",
     "iopub.status.busy": "2022-06-29T15:22:20.434982Z",
     "iopub.status.idle": "2022-06-29T15:22:20.438364Z",
     "shell.execute_reply": "2022-06-29T15:22:20.438940Z",
     "shell.execute_reply.started": "2022-06-28T12:31:32.647986Z"
    },
    "papermill": {
     "duration": 0.08263,
     "end_time": "2022-06-29T15:22:20.439173",
     "exception": false,
     "start_time": "2022-06-29T15:22:20.356543",
     "status": "completed"
    },
    "tags": []
   },
   "outputs": [],
   "source": [
    "import torch"
   ]
  },
  {
   "cell_type": "code",
   "execution_count": null,
   "id": "5164bff0",
   "metadata": {
    "execution": {
     "iopub.execute_input": "2022-06-29T15:22:20.589338Z",
     "iopub.status.busy": "2022-06-29T15:22:20.588203Z",
     "iopub.status.idle": "2022-06-29T15:22:20.590810Z",
     "shell.execute_reply": "2022-06-29T15:22:20.591439Z",
     "shell.execute_reply.started": "2022-06-28T12:31:32.655235Z"
    },
    "papermill": {
     "duration": 0.078802,
     "end_time": "2022-06-29T15:22:20.591577",
     "exception": false,
     "start_time": "2022-06-29T15:22:20.512775",
     "status": "completed"
    },
    "tags": []
   },
   "outputs": [],
   "source": [
    "# model = torch.load('../input/pretrained-teacher-models/SERes-0.6830-auprc-12Lead.pth')\n",
    "# state_dict = model.state_dict\n",
    "# torch.save({'model':state_dict},'SERes-0.6830-auprc-12Lead_state_dict.pth')"
   ]
  },
  {
   "cell_type": "code",
   "execution_count": null,
   "id": "6b32dce7",
   "metadata": {
    "execution": {
     "iopub.execute_input": "2022-06-29T15:22:20.743871Z",
     "iopub.status.busy": "2022-06-29T15:22:20.742741Z",
     "iopub.status.idle": "2022-06-29T15:22:20.746690Z",
     "shell.execute_reply": "2022-06-29T15:22:20.746033Z",
     "shell.execute_reply.started": "2022-06-28T12:31:32.665507Z"
    },
    "papermill": {
     "duration": 0.081547,
     "end_time": "2022-06-29T15:22:20.746823",
     "exception": false,
     "start_time": "2022-06-29T15:22:20.665276",
     "status": "completed"
    },
    "tags": []
   },
   "outputs": [],
   "source": [
    "# model = torch.load('../input/pretrained-teacher-models/SERes-0.6314-auprc-6Lead.pth')\n",
    "# state_dict = model.state_dict\n",
    "# # torch.save({'model':state_dict},'SERes-0.6314-auprc-6Lead-state-dict.pth')"
   ]
  },
  {
   "cell_type": "code",
   "execution_count": null,
   "id": "ebf20660",
   "metadata": {
    "execution": {
     "iopub.execute_input": "2022-06-29T15:22:20.897928Z",
     "iopub.status.busy": "2022-06-29T15:22:20.896872Z",
     "iopub.status.idle": "2022-06-29T15:22:20.900087Z",
     "shell.execute_reply": "2022-06-29T15:22:20.900726Z",
     "shell.execute_reply.started": "2022-06-28T12:31:32.673684Z"
    },
    "papermill": {
     "duration": 0.080729,
     "end_time": "2022-06-29T15:22:20.900906",
     "exception": false,
     "start_time": "2022-06-29T15:22:20.820177",
     "status": "completed"
    },
    "tags": []
   },
   "outputs": [],
   "source": [
    "# model = torch.load('../input/pretrained-teacher-models/SERes-0.6542-auprc-3Lead.pth')\n",
    "# state_dict = model.state_dict\n",
    "# torch.save({'model':state_dict},'SERes-0.6542-auprc-3Lead-state-dict.pth')"
   ]
  },
  {
   "cell_type": "code",
   "execution_count": null,
   "id": "80f7d997",
   "metadata": {
    "execution": {
     "iopub.execute_input": "2022-06-29T15:22:21.060813Z",
     "iopub.status.busy": "2022-06-29T15:22:21.058268Z",
     "iopub.status.idle": "2022-06-29T15:22:21.061665Z",
     "shell.execute_reply": "2022-06-29T15:22:21.062292Z",
     "shell.execute_reply.started": "2022-06-28T12:31:32.682824Z"
    },
    "papermill": {
     "duration": 0.089727,
     "end_time": "2022-06-29T15:22:21.062540",
     "exception": false,
     "start_time": "2022-06-29T15:22:20.972813",
     "status": "completed"
    },
    "tags": []
   },
   "outputs": [],
   "source": [
    "def Resample(input_signal, src_fs, tar_fs):\n",
    "    '''\n",
    "    :param input_signal:输入信号\n",
    "    :param src_fs:输入信号采样率\n",
    "    :param tar_fs:输出信号采样率\n",
    "    :return:输出信号\n",
    "    '''\n",
    "    if src_fs != tar_fs:\n",
    "        dtype = input_signal.dtype\n",
    "        audio_len = input_signal.shape[1]\n",
    "        audio_time_max = 1.0 * (audio_len) / src_fs\n",
    "        src_time = 1.0 * np.linspace(0, audio_len, audio_len) / src_fs\n",
    "        tar_time = 1.0 * np.linspace(0, np.int(audio_time_max * tar_fs), np.int(audio_time_max * tar_fs)) / tar_fs\n",
    "        for i in range(input_signal.shape[0]):\n",
    "            if i == 0:\n",
    "                output_signal = np.interp(tar_time, src_time, input_signal[i, :]).astype(dtype)\n",
    "                output_signal = output_signal.reshape(1, len(output_signal))\n",
    "            else:\n",
    "                tmp = np.interp(tar_time, src_time, input_signal[i, :]).astype(dtype)\n",
    "                tmp = tmp.reshape(1, len(tmp))\n",
    "                output_signal = np.vstack((output_signal, tmp))\n",
    "    else:\n",
    "        output_signal = input_signal\n",
    "    return output_signal\n"
   ]
  },
  {
   "cell_type": "code",
   "execution_count": null,
   "id": "58948c82",
   "metadata": {
    "execution": {
     "iopub.execute_input": "2022-06-29T15:22:21.217506Z",
     "iopub.status.busy": "2022-06-29T15:22:21.216517Z",
     "iopub.status.idle": "2022-06-29T15:22:21.220083Z",
     "shell.execute_reply": "2022-06-29T15:22:21.220737Z",
     "shell.execute_reply.started": "2022-06-28T12:31:32.695262Z"
    },
    "papermill": {
     "duration": 0.084085,
     "end_time": "2022-06-29T15:22:21.220887",
     "exception": false,
     "start_time": "2022-06-29T15:22:21.136802",
     "status": "completed"
    },
    "tags": []
   },
   "outputs": [],
   "source": [
    "def load_data(case, src_fs, tar_fs=257):\n",
    "    #case = case.replace('..', '.')\n",
    "    x = loadmat(case)\n",
    "    data = np.asarray(x['val'], dtype=np.float64)\n",
    "    data = Resample(data, src_fs, tar_fs)\n",
    "    return data\n",
    "\n",
    "def prepare_data(age, gender): \n",
    "    data = np.zeros(5,) #age, age_mask,female,male ,gender_mask \n",
    "    if age >= 0:\n",
    "        data[0] = age / 100\n",
    "        data[1] = 1\n",
    "    if 'F' in gender:\n",
    "        data[2] = 1\n",
    "        data[4] = 1\n",
    "    elif gender == 'Unknown':\n",
    "        data[4] = 0\n",
    "    elif 'f' in gender:\n",
    "        data[2] = 1\n",
    "        data[4] = 1\n",
    "    else:\n",
    "        data[3] = 1\n",
    "        data[4] = 1\n",
    "\n",
    "    return data"
   ]
  },
  {
   "cell_type": "code",
   "execution_count": null,
   "id": "38420e58",
   "metadata": {
    "execution": {
     "iopub.execute_input": "2022-06-29T15:22:21.387700Z",
     "iopub.status.busy": "2022-06-29T15:22:21.372243Z",
     "iopub.status.idle": "2022-06-29T15:22:21.391443Z",
     "shell.execute_reply": "2022-06-29T15:22:21.390497Z",
     "shell.execute_reply.started": "2022-06-28T12:31:32.707885Z"
    },
    "papermill": {
     "duration": 0.095772,
     "end_time": "2022-06-29T15:22:21.391571",
     "exception": false,
     "start_time": "2022-06-29T15:22:21.295799",
     "status": "completed"
    },
    "tags": []
   },
   "outputs": [],
   "source": [
    "class dataset(Dataset):\n",
    "\n",
    "    def __init__(self, anno_pd, test=False, transform=None,class_codes=None, class_names=None, data_dir=None, loader=load_data):\n",
    "        self.test = test\n",
    "        if self.test:\n",
    "            self.data = anno_pd['filename'].tolist()\n",
    "            self.fs = anno_pd['fs'].tolist()\n",
    "        else:\n",
    "            self.data = anno_pd['filename'].tolist()\n",
    "            self.class_codes = class_codes\n",
    "            self.class_names = class_names\n",
    "            self.classwise_sample_count = [int(anno_pd.iloc[:, i].values.sum()) for i in range(4,anno_pd.shape[1])]\n",
    "            self.labels = anno_pd.iloc[:, 4:].values\n",
    "            self.multi_labels = [self.labels[i, :] for i in range(self.labels.shape[0])]\n",
    "            self.age = anno_pd['age'].tolist()\n",
    "            self.gender = anno_pd['gender'].tolist()\n",
    "            self.fs = anno_pd['fs'].tolist()\n",
    "\n",
    "            self.fs = anno_pd['fs'].tolist()\n",
    "\n",
    "        self.transforms = transform\n",
    "        self.data_dir = data_dir\n",
    "        self.loader = loader\n",
    "\n",
    "\n",
    "    def __len__(self):\n",
    "        return len(self.data)\n",
    "\n",
    "    def __getitem__(self, item):\n",
    "        if self.test:\n",
    "            img_path = self.data[item]\n",
    "            fs = self.fs[item]\n",
    "            img = self.loader(self.data_dir + img_path, src_fs=fs)\n",
    "            img = self.transforms(img)\n",
    "            return img, img_path\n",
    "        else:\n",
    "            img_name = self.data[item]\n",
    "            #print(img_name)\n",
    "            fs = self.fs[item]\n",
    "            age = self.age[item]\n",
    "            gender = self.gender[item]\n",
    "            age_gender = prepare_data(age, gender)\n",
    "            img = self.loader(img_name, src_fs=fs)\n",
    "            label = self.multi_labels[item]\n",
    "        \n",
    "            \"\"\"\n",
    "            for i in range(img.shape[1]):\n",
    "                img[:, i] = ecg_preprocessing(img[:, i], wfun='db6', levels=9, type=2)\n",
    "            \"\"\"\n",
    "            img = self.transforms(img)\n",
    "            return img, torch.from_numpy(label).float(),torch.from_numpy(age_gender).float(),item\n"
   ]
  },
  {
   "cell_type": "code",
   "execution_count": null,
   "id": "372617f0",
   "metadata": {
    "execution": {
     "iopub.execute_input": "2022-06-29T15:22:21.548669Z",
     "iopub.status.busy": "2022-06-29T15:22:21.547174Z",
     "iopub.status.idle": "2022-06-29T15:22:21.562046Z",
     "shell.execute_reply": "2022-06-29T15:22:21.562699Z",
     "shell.execute_reply.started": "2022-06-28T12:31:32.729335Z"
    },
    "papermill": {
     "duration": 0.100339,
     "end_time": "2022-06-29T15:22:21.562850",
     "exception": false,
     "start_time": "2022-06-29T15:22:21.462511",
     "status": "completed"
    },
    "tags": []
   },
   "outputs": [],
   "source": [
    "class Compose(object):\n",
    "    def __init__(self, transforms):\n",
    "        self.transforms = transforms\n",
    "\n",
    "    def __call__(self, seq):\n",
    "        for t in self.transforms:\n",
    "            seq = t(seq)\n",
    "        return seq\n",
    "    \n",
    "class Filtering(object):\n",
    "    def __call__(self, seq):\n",
    "        b,a = signal.butter(3, [0.001 / 250, 47 / 250], 'bandpass')\n",
    "        seq = signal.filtfilt(b, a, seq)\n",
    "        \n",
    "        return seq\n",
    "    \n",
    "class ZScore(object):\n",
    "    def __call__(self, seq):\n",
    "        seq = zscore(seq, axis=-1)\n",
    "        return seq\n",
    "    \n",
    "class NaNvalues(object):\n",
    "    def __call__(self, seq):\n",
    "        seq = np.nan_to_num(seq)\n",
    "        return seq\n",
    "    \n",
    "\n",
    "class ValClip(object):\n",
    "    def __init__(self, len=72000):\n",
    "        self.len = len\n",
    "\n",
    "    def __call__(self, seq):\n",
    "        if seq.shape[1] >= self.len:\n",
    "            seq = seq\n",
    "        else:\n",
    "            zeros_padding = np.zeros(shape=(seq.shape[0], self.len - seq.shape[1]), dtype=np.float32)\n",
    "            seq = np.hstack((seq, zeros_padding))\n",
    "        return seq\n",
    "class RandomClip(object):\n",
    "    def __init__(self, len=72000):\n",
    "        self.len = len\n",
    "\n",
    "    def __call__(self, seq):\n",
    "        if seq.shape[1] >= self.len:\n",
    "            start = random.randint(0, seq.shape[1] - self.len)\n",
    "            seq = seq[:, start:start+self.len]\n",
    "        else:\n",
    "            left = random.randint(0, self.len - seq.shape[1])\n",
    "            right = self.len - seq.shape[1] - left\n",
    "            zeros_padding1 = np.zeros(shape=(seq.shape[0], left), dtype=np.float32)\n",
    "            zeros_padding2 = np.zeros(shape=(seq.shape[0], right), dtype=np.float32)\n",
    "            seq = np.hstack((zeros_padding1, seq, zeros_padding2))\n",
    "        return seq\n",
    "class Normalize(object):\n",
    "    def __init__(self, type=\"0-1\"):\n",
    "        self.type = type\n",
    "\n",
    "    def __call__(self, seq):\n",
    "        if self.type == \"0-1\":\n",
    "            for i in range(seq.shape[0]):\n",
    "                if np.sum(seq[i, :]) == 0:\n",
    "                    seq[i, :] = seq[i, :]\n",
    "                else:\n",
    "                    seq[i, :] = (seq[i, :]-seq[i, :].min())/(seq[i, :].max()-seq[i, :].min())\n",
    "        elif self.type == \"mean-std\":\n",
    "            for i in range(seq.shape[0]):\n",
    "                if np.sum(seq[i, :]) == 0:\n",
    "                    seq[i, :] = seq[i, :]\n",
    "                else:\n",
    "                    seq[i, :] = (seq[i, :]-seq[i, :].mean())/seq[i, :].std()\n",
    "        elif self.type == \"none\":\n",
    "            seq = seq\n",
    "        else:\n",
    "            raise NameError('This normalization is not included!')\n",
    "        return seq\n",
    "    \n",
    "    \n",
    "class Retype(object):\n",
    "    def __call__(self, seq):\n",
    "        return seq.astype(np.float32)\n"
   ]
  },
  {
   "cell_type": "code",
   "execution_count": null,
   "id": "4df412a8",
   "metadata": {
    "execution": {
     "iopub.execute_input": "2022-06-29T15:22:21.719507Z",
     "iopub.status.busy": "2022-06-29T15:22:21.718504Z",
     "iopub.status.idle": "2022-06-29T15:22:21.722305Z",
     "shell.execute_reply": "2022-06-29T15:22:21.722921Z",
     "shell.execute_reply.started": "2022-06-28T12:31:32.755485Z"
    },
    "papermill": {
     "duration": 0.086732,
     "end_time": "2022-06-29T15:22:21.723110",
     "exception": false,
     "start_time": "2022-06-29T15:22:21.636378",
     "status": "completed"
    },
    "tags": []
   },
   "outputs": [],
   "source": [
    "#normlizetype = 'mean-std'\n",
    "normlizetype = 'none'\n",
    "start = 0\n",
    "seq_length = 4096\n",
    "sample_ratio = 0.5\n",
    "data_transforms = {\n",
    "    'train': Compose([\n",
    "        #Reshape(),\n",
    "        #DownSample(sample_ratio),\n",
    "        #ZerosPadding(len=seq_length),\n",
    "        # ConstantStart(start=start, num=seq_length),\n",
    "        #Filtering(),\n",
    "        #ZScore(),  #gives NAN vales\n",
    "        #NaNvalues(),\n",
    "        Normalize(normlizetype),\n",
    "        RandomClip(len=seq_length),\n",
    "        # RandomAddGaussian(),\n",
    "        # RandomScale(0.1),\n",
    "        # RandomAmplify(),\n",
    "        # Randomverflip(),\n",
    "        # Randomshift(),\n",
    "        # RandomStretch(0.02),\n",
    "        # RandomCrop(),\n",
    "        Retype()\n",
    "    ]),\n",
    "    'val': Compose([\n",
    "        #Reshape(),\n",
    "        #DownSample(sample_ratio),\n",
    "        #RandomClip(len=seq_length),\n",
    "        #Filtering(),\n",
    "        #ZScore(),  #gives NAN vales\n",
    "        #NaNvalues(),\n",
    "        Normalize(normlizetype),\n",
    "        RandomClip(len=seq_length),\n",
    "        #ValClip(len=seq_length),           **********(CHECK)\n",
    "        #ZerosPadding(len=seq_length),\n",
    "        # ConstantStart(start=start, num=seq_length),\n",
    "        \n",
    "        Retype()\n",
    "    ]),\n",
    "    'test': Compose([\n",
    "        #Reshape(),\n",
    "        #DownSample(sig_resample_len),\n",
    "        #Filtering(),\n",
    "        #ZScore(),  #gives NAN vales\n",
    "        #NaNvalues(),\n",
    "        Normalize(normlizetype),\n",
    "        RandomClip(len=seq_length),\n",
    "        #ValClip(len=seq_length),\n",
    "        Retype()\n",
    "    ])\n",
    "}\n"
   ]
  },
  {
   "cell_type": "code",
   "execution_count": null,
   "id": "f711003b",
   "metadata": {
    "execution": {
     "iopub.execute_input": "2022-06-29T15:22:21.885105Z",
     "iopub.status.busy": "2022-06-29T15:22:21.882451Z",
     "iopub.status.idle": "2022-06-29T15:22:21.885874Z",
     "shell.execute_reply": "2022-06-29T15:22:21.886439Z",
     "shell.execute_reply.started": "2022-06-28T12:31:32.767141Z"
    },
    "papermill": {
     "duration": 0.091117,
     "end_time": "2022-06-29T15:22:21.886616",
     "exception": false,
     "start_time": "2022-06-29T15:22:21.795499",
     "status": "completed"
    },
    "tags": []
   },
   "outputs": [],
   "source": [
    "def load_and_clean_sub(path):\n",
    "    label_test = pd.read_csv(path, sep=\"\\t\", names=list(range(0, 3)))\n",
    "    label_test.columns = ['id', 'age', 'gender']  # 设置列名\n",
    "    return label_test\n",
    "\n",
    "class ECG(object):\n",
    "    \n",
    "\n",
    "\n",
    "    def __init__(self, data_dir, split='0'):\n",
    "        self.data_dir = data_dir\n",
    "        self.split = split\n",
    "        self.num_classes = 24\n",
    "        self.inputchannel = 12\n",
    "\n",
    "\n",
    "    def data_preprare(self, test=False):\n",
    "        if test:\n",
    "            train_path = self.data_dir+'train_split' + self.split + '.csv'\n",
    "            val_path = self.data_dir+'test_split' + self.split + '.csv'\n",
    "            train_pd = pd.read_csv(train_path)\n",
    "            val_pd = pd.read_csv(val_path)\n",
    "\n",
    "            train_dataset = dataset(anno_pd=train_pd, transform=data_transforms['train'], data_dir=self.data_dir)\n",
    "            val_dataset = dataset(anno_pd=val_pd, transform=data_transforms['val'], data_dir=self.data_dir)\n",
    "            return train_dataset, val_dataset\n",
    "        else:\n",
    "            train_path = self.data_dir+'train_split' + self.split + '.csv'\n",
    "            val_path = self.data_dir+'test_split' + self.split + '.csv'\n",
    "            train_pd = pd.read_csv(train_path)\n",
    "            val_pd = pd.read_csv(val_path)\n",
    "            codes_mapping = pd.read_csv('../input/physionet-2020/dx_mapping_scored.csv')\n",
    "            class_codes = train_pd.columns.values[4:]\n",
    "            class_names = [codes_mapping[codes_mapping['SNOMED CT Code']==int(label)]['Dx'].values[0] for label in class_codes]\n",
    "            \n",
    "            \n",
    "            \n",
    "            train_dataset = dataset(anno_pd=train_pd, transform=data_transforms['train'],class_codes=class_codes,class_names=class_names, data_dir=self.data_dir)\n",
    "            val_dataset = dataset(anno_pd=val_pd, transform=data_transforms['val'],class_codes=class_codes,class_names = class_names, data_dir=self.data_dir)\n",
    "            return train_dataset, val_dataset"
   ]
  },
  {
   "cell_type": "code",
   "execution_count": null,
   "id": "f5862b16",
   "metadata": {
    "execution": {
     "iopub.execute_input": "2022-06-29T15:22:22.037293Z",
     "iopub.status.busy": "2022-06-29T15:22:22.036282Z",
     "iopub.status.idle": "2022-06-29T15:22:35.084047Z",
     "shell.execute_reply": "2022-06-29T15:22:35.082951Z",
     "shell.execute_reply.started": "2022-06-28T12:31:32.781961Z"
    },
    "papermill": {
     "duration": 13.126039,
     "end_time": "2022-06-29T15:22:35.084244",
     "exception": false,
     "start_time": "2022-06-29T15:22:21.958205",
     "status": "completed"
    },
    "tags": []
   },
   "outputs": [],
   "source": [
    "!pip install datasets"
   ]
  },
  {
   "cell_type": "code",
   "execution_count": null,
   "id": "e5993e52",
   "metadata": {
    "execution": {
     "iopub.execute_input": "2022-06-29T15:22:35.232015Z",
     "iopub.status.busy": "2022-06-29T15:22:35.231051Z",
     "iopub.status.idle": "2022-06-29T15:22:35.233535Z",
     "shell.execute_reply": "2022-06-29T15:22:35.234057Z",
     "shell.execute_reply.started": "2022-06-28T12:31:42.907891Z"
    },
    "papermill": {
     "duration": 0.078599,
     "end_time": "2022-06-29T15:22:35.234278",
     "exception": false,
     "start_time": "2022-06-29T15:22:35.155679",
     "status": "completed"
    },
    "tags": []
   },
   "outputs": [],
   "source": [
    "#import datasets"
   ]
  },
  {
   "cell_type": "code",
   "execution_count": null,
   "id": "ec8158e3",
   "metadata": {
    "execution": {
     "iopub.execute_input": "2022-06-29T15:22:35.379775Z",
     "iopub.status.busy": "2022-06-29T15:22:35.379044Z",
     "iopub.status.idle": "2022-06-29T15:22:35.684543Z",
     "shell.execute_reply": "2022-06-29T15:22:35.685036Z",
     "shell.execute_reply.started": "2022-06-28T12:31:42.912931Z"
    },
    "papermill": {
     "duration": 0.381982,
     "end_time": "2022-06-29T15:22:35.685247",
     "exception": false,
     "start_time": "2022-06-29T15:22:35.303265",
     "status": "completed"
    },
    "tags": []
   },
   "outputs": [],
   "source": [
    "datasets = {}\n",
    "batch_size = 64\n",
    "datasets['train'], datasets['val'] = ECG(\"../input/physionet20205folds/\", \"3\").data_preprare()"
   ]
  },
  {
   "cell_type": "code",
   "execution_count": null,
   "id": "6ca8d595",
   "metadata": {
    "execution": {
     "iopub.execute_input": "2022-06-29T15:22:35.844328Z",
     "iopub.status.busy": "2022-06-29T15:22:35.837073Z",
     "iopub.status.idle": "2022-06-29T15:22:35.848385Z",
     "shell.execute_reply": "2022-06-29T15:22:35.847734Z",
     "shell.execute_reply.started": "2022-06-28T12:31:43.197584Z"
    },
    "papermill": {
     "duration": 0.088015,
     "end_time": "2022-06-29T15:22:35.848515",
     "exception": false,
     "start_time": "2022-06-29T15:22:35.760500",
     "status": "completed"
    },
    "tags": []
   },
   "outputs": [],
   "source": [
    "leads = {'I':0,'II':1,'III':2,'AVR':3,'AVL':4,'AVF':5,'V1':6,'V2':7,'V3':8,'V4':9,'V5':10,'V6':11}\n",
    "six_leads = ['I','II','III','AVR','AVL','AVF']\n",
    "four_leads = ['I','II','III','V2']\n",
    "three_leads = ['I','II','V2']\n",
    "two_leads = ['I','II']"
   ]
  },
  {
   "cell_type": "code",
   "execution_count": null,
   "id": "30dc71bb",
   "metadata": {
    "execution": {
     "iopub.execute_input": "2022-06-29T15:22:35.991924Z",
     "iopub.status.busy": "2022-06-29T15:22:35.989337Z",
     "iopub.status.idle": "2022-06-29T15:22:35.996429Z",
     "shell.execute_reply": "2022-06-29T15:22:35.995888Z",
     "shell.execute_reply.started": "2022-06-28T12:31:43.205832Z"
    },
    "papermill": {
     "duration": 0.079545,
     "end_time": "2022-06-29T15:22:35.996563",
     "exception": false,
     "start_time": "2022-06-29T15:22:35.917018",
     "status": "completed"
    },
    "tags": []
   },
   "outputs": [],
   "source": [
    "print(len(datasets['val']))"
   ]
  },
  {
   "cell_type": "code",
   "execution_count": null,
   "id": "2d47b1ec",
   "metadata": {
    "execution": {
     "iopub.execute_input": "2022-06-29T15:22:36.143363Z",
     "iopub.status.busy": "2022-06-29T15:22:36.142315Z",
     "iopub.status.idle": "2022-06-29T15:22:36.145637Z",
     "shell.execute_reply": "2022-06-29T15:22:36.145082Z",
     "shell.execute_reply.started": "2022-06-28T12:31:43.21581Z"
    },
    "papermill": {
     "duration": 0.079027,
     "end_time": "2022-06-29T15:22:36.145761",
     "exception": false,
     "start_time": "2022-06-29T15:22:36.066734",
     "status": "completed"
    },
    "tags": []
   },
   "outputs": [],
   "source": [
    "train_dataloader = DataLoader(datasets['train'],batch_size= batch_size,shuffle = True)\n",
    "valid_dataloader = DataLoader(datasets['val'],batch_size=batch_size,shuffle = True)"
   ]
  },
  {
   "cell_type": "code",
   "execution_count": null,
   "id": "f17c314b",
   "metadata": {
    "execution": {
     "iopub.execute_input": "2022-06-29T15:22:36.338326Z",
     "iopub.status.busy": "2022-06-29T15:22:36.336665Z",
     "iopub.status.idle": "2022-06-29T15:22:37.131691Z",
     "shell.execute_reply": "2022-06-29T15:22:37.132792Z",
     "shell.execute_reply.started": "2022-06-28T12:31:43.223824Z"
    },
    "papermill": {
     "duration": 0.917545,
     "end_time": "2022-06-29T15:22:37.133108",
     "exception": false,
     "start_time": "2022-06-29T15:22:36.215563",
     "status": "completed"
    },
    "tags": []
   },
   "outputs": [],
   "source": [
    "signals, class_labels,age_gender,indices = next(iter(train_dataloader))"
   ]
  },
  {
   "cell_type": "markdown",
   "id": "af8ce08a",
   "metadata": {
    "papermill": {
     "duration": 0.115752,
     "end_time": "2022-06-29T15:22:37.364984",
     "exception": false,
     "start_time": "2022-06-29T15:22:37.249232",
     "status": "completed"
    },
    "tags": []
   },
   "source": [
    "# **SEResnet**"
   ]
  },
  {
   "cell_type": "code",
   "execution_count": null,
   "id": "b3c9c8e7",
   "metadata": {
    "execution": {
     "iopub.execute_input": "2022-06-29T15:22:37.530758Z",
     "iopub.status.busy": "2022-06-29T15:22:37.529635Z",
     "iopub.status.idle": "2022-06-29T15:22:47.640607Z",
     "shell.execute_reply": "2022-06-29T15:22:47.639772Z",
     "shell.execute_reply.started": "2022-06-28T12:31:43.857499Z"
    },
    "papermill": {
     "duration": 10.193332,
     "end_time": "2022-06-29T15:22:47.640750",
     "exception": false,
     "start_time": "2022-06-29T15:22:37.447418",
     "status": "completed"
    },
    "tags": []
   },
   "outputs": [],
   "source": [
    "import torch.nn as nn\n",
    "import torch.utils.model_zoo as model_zoo\n",
    "import math\n",
    "import torch.optim as optim\n",
    "import torch\n",
    "from torch.optim import lr_scheduler\n",
    "import logging\n",
    "import warnings\n",
    "import time\n",
    "\n",
    "from sklearn.metrics import roc_auc_score, f1_score, cohen_kappa_score\n",
    "!pip install torchsummary \n",
    "from torchsummary import summary\n",
    "from functools import partial\n",
    "import torch.nn.functional as F"
   ]
  },
  {
   "cell_type": "code",
   "execution_count": null,
   "id": "033f6f1f",
   "metadata": {
    "execution": {
     "iopub.execute_input": "2022-06-29T15:22:47.796117Z",
     "iopub.status.busy": "2022-06-29T15:22:47.795129Z",
     "iopub.status.idle": "2022-06-29T15:22:47.797704Z",
     "shell.execute_reply": "2022-06-29T15:22:47.798211Z",
     "shell.execute_reply.started": "2022-06-28T12:31:52.575972Z"
    },
    "papermill": {
     "duration": 0.084409,
     "end_time": "2022-06-29T15:22:47.798389",
     "exception": false,
     "start_time": "2022-06-29T15:22:47.713980",
     "status": "completed"
    },
    "tags": []
   },
   "outputs": [],
   "source": [
    "class SELayer(nn.Module):\n",
    "    def __init__(self, channel, reduction=16):\n",
    "        super(SELayer, self).__init__()\n",
    "        self.avg_pool = nn.AdaptiveAvgPool1d(1)\n",
    "        self.fc = nn.Sequential(\n",
    "            nn.Linear(channel, channel // reduction, bias=False),\n",
    "            nn.ReLU(inplace=True),\n",
    "            nn.Linear(channel // reduction, channel, bias=False),\n",
    "            nn.Sigmoid()\n",
    "        )\n",
    "\n",
    "    def forward(self, x):\n",
    "        b, c, _ = x.size()\n",
    "        y = self.avg_pool(x).view(b, c)\n",
    "        y = self.fc(y).view(b, c, 1)\n",
    "        return x * y.expand_as(x)"
   ]
  },
  {
   "cell_type": "code",
   "execution_count": null,
   "id": "a4ceedb0",
   "metadata": {
    "execution": {
     "iopub.execute_input": "2022-06-29T15:22:47.952349Z",
     "iopub.status.busy": "2022-06-29T15:22:47.951239Z",
     "iopub.status.idle": "2022-06-29T15:22:47.954645Z",
     "shell.execute_reply": "2022-06-29T15:22:47.954074Z",
     "shell.execute_reply.started": "2022-06-28T12:31:52.589944Z"
    },
    "papermill": {
     "duration": 0.083971,
     "end_time": "2022-06-29T15:22:47.954781",
     "exception": false,
     "start_time": "2022-06-29T15:22:47.870810",
     "status": "completed"
    },
    "tags": []
   },
   "outputs": [],
   "source": [
    "def conv3x1(in_planes, out_planes, stride=1):\n",
    "    \"\"\"3x3 convolution with padding\"\"\"\n",
    "    return nn.Conv1d(in_planes, out_planes, kernel_size=7, stride=stride,\n",
    "                     padding=3, bias=False)\n",
    "\n",
    "def conv1x1(in_planes, out_planes, stride=1):\n",
    "    \"\"\"1x1 convolution\"\"\"\n",
    "    return nn.Conv1d(in_planes, out_planes, kernel_size=1, stride=stride, bias=False)"
   ]
  },
  {
   "cell_type": "code",
   "execution_count": null,
   "id": "b623af86",
   "metadata": {
    "execution": {
     "iopub.execute_input": "2022-06-29T15:22:48.115120Z",
     "iopub.status.busy": "2022-06-29T15:22:48.114049Z",
     "iopub.status.idle": "2022-06-29T15:22:48.120316Z",
     "shell.execute_reply": "2022-06-29T15:22:48.120812Z",
     "shell.execute_reply.started": "2022-06-28T12:31:52.599269Z"
    },
    "papermill": {
     "duration": 0.090776,
     "end_time": "2022-06-29T15:22:48.121003",
     "exception": false,
     "start_time": "2022-06-29T15:22:48.030227",
     "status": "completed"
    },
    "tags": []
   },
   "outputs": [],
   "source": [
    "class BasicBlock(nn.Module):\n",
    "    expansion = 1\n",
    "\n",
    "    def __init__(self, inplanes, planes, stride=1, downsample=None,is_last = False):\n",
    "        super(BasicBlock, self).__init__()\n",
    "        self.is_last = is_last\n",
    "        self.conv1 = conv3x1(inplanes, planes, stride)\n",
    "        self.bn1 = nn.BatchNorm1d(planes)\n",
    "        self.relu = nn.ReLU(inplace=True)\n",
    "        self.conv2 = conv3x1(planes, planes)\n",
    "        self.bn2 = nn.BatchNorm1d(planes)\n",
    "        self.se = SELayer(planes)\n",
    "        self.downsample = downsample\n",
    "        self.stride = stride\n",
    "        self.dropout = nn.Dropout(.2)\n",
    "\n",
    "    def forward(self, x):\n",
    "        identity = x\n",
    "\n",
    "        out = self.conv1(x)\n",
    "        out = self.bn1(out)\n",
    "        out = self.relu(out)\n",
    "        out = self.dropout(out)\n",
    "\n",
    "        out = self.conv2(out)\n",
    "        out = self.bn2(out)\n",
    "        out = self.se(out)\n",
    "        if self.downsample is not None:\n",
    "            identity = self.downsample(x)\n",
    "\n",
    "        out += identity\n",
    "        preact = out\n",
    "        out = self.relu(out)\n",
    "\n",
    "        if self.is_last:\n",
    "            return out, preact\n",
    "        else:\n",
    "            return out"
   ]
  },
  {
   "cell_type": "code",
   "execution_count": null,
   "id": "bcdcc18a",
   "metadata": {
    "execution": {
     "iopub.execute_input": "2022-06-29T15:22:48.442886Z",
     "iopub.status.busy": "2022-06-29T15:22:48.441411Z",
     "iopub.status.idle": "2022-06-29T15:22:48.444410Z",
     "shell.execute_reply": "2022-06-29T15:22:48.443608Z",
     "shell.execute_reply.started": "2022-06-28T12:31:52.61283Z"
    },
    "papermill": {
     "duration": 0.248712,
     "end_time": "2022-06-29T15:22:48.444564",
     "exception": false,
     "start_time": "2022-06-29T15:22:48.195852",
     "status": "completed"
    },
    "tags": []
   },
   "outputs": [],
   "source": [
    "class ResNet(nn.Module):\n",
    "\n",
    "    def __init__(self, block, layers, in_channel=12, out_channel=24, zero_init_residual=False):\n",
    "        super(ResNet, self).__init__()\n",
    "        self.inplanes = 64\n",
    "        self.conv1 = nn.Conv1d(in_channel, 64, kernel_size=15, stride=2, padding=7,\n",
    "                               bias=False)\n",
    "        self.bn1 = nn.BatchNorm1d(64)\n",
    "        self.relu = nn.ReLU(inplace=True)\n",
    "        self.maxpool = nn.MaxPool1d(kernel_size=3, stride=2, padding=1)\n",
    "        self.layer1 = self._make_layer(block, 64, layers[0])\n",
    "        self.layer2 = self._make_layer(block, 128, layers[1], stride=2)\n",
    "        self.layer3 = self._make_layer(block, 256, layers[2], stride=2)\n",
    "        self.layer4 = self._make_layer(block, 512, layers[3], stride=2)\n",
    "        self.avgpool = nn.AdaptiveAvgPool1d(1)\n",
    "        self.fc1 = nn.Linear(5, 10)\n",
    "        self.fc = nn.Linear(512 * block.expansion + 10, out_channel)\n",
    "        self.sig = nn.Sigmoid()\n",
    "\n",
    "        for m in self.modules():\n",
    "            if isinstance(m, nn.Conv1d):\n",
    "                nn.init.kaiming_normal_(m.weight, mode='fan_out', nonlinearity='relu')\n",
    "            elif isinstance(m, nn.BatchNorm1d):\n",
    "                nn.init.constant_(m.weight, 1)\n",
    "                nn.init.constant_(m.bias, 0)\n",
    "\n",
    "        # Zero-initialize the last BN in each residual branch,\n",
    "        # so that the residual branch starts with zeros, and each residual block behaves like an identity.\n",
    "        # This improves the model by 0.2~0.3% according to https://arxiv.org/abs/1706.02677\n",
    "        if zero_init_residual:\n",
    "            for m in self.modules():\n",
    "                if isinstance(m, Bottleneck):\n",
    "                    nn.init.constant_(m.bn3.weight, 0)\n",
    "                elif isinstance(m, BasicBlock):\n",
    "                    nn.init.constant_(m.bn2.weight, 0)\n",
    "\n",
    "        \"\"\"\n",
    "        for m in self.modules():\n",
    "            if isinstance(m, nn.Conv1d):\n",
    "                n = m.kernel_size[0] * m.kernel_size[0] * m.out_channels\n",
    "                m.weight.data.normal_(0, math.sqrt(2. / n))\n",
    "            elif isinstance(m, nn.BatchNorm1d):\n",
    "                m.weight.data.fill_(1)\n",
    "                m.bias.data.zero_()\n",
    "        \"\"\"\n",
    "                          \n",
    "    def _make_layer(self, block, planes, blocks, stride=1):\n",
    "        downsample = None\n",
    "        if stride != 1 or self.inplanes != planes * block.expansion:\n",
    "            downsample = nn.Sequential(\n",
    "                conv1x1(self.inplanes, planes * block.expansion, stride),\n",
    "                nn.BatchNorm1d(planes * block.expansion),\n",
    "            )\n",
    "\n",
    "        layers = []\n",
    "        \n",
    "        layers.append(block(self.inplanes, planes, stride, downsample,is_last=(blocks == 1)))\n",
    "        self.inplanes = planes * block.expansion\n",
    "        for i in range(1, blocks):\n",
    "            \n",
    "            layers.append(block(self.inplanes, planes,is_last=(i == blocks-1)))\n",
    "\n",
    "        return nn.Sequential(*layers)\n",
    "\n",
    "\n",
    "\n",
    "    def forward(self, x, ag, is_feat=False, preact=False):\n",
    "        \n",
    "        #print(\"input:\",x.shape, ag.shape)\n",
    "        x = self.conv1(x)\n",
    "        x = self.bn1(x)\n",
    "        x = self.relu(x)\n",
    "        f0 = x\n",
    "        x = self.maxpool(x)\n",
    "        f1 = x\n",
    "\n",
    "        x, f2_pre = self.layer1(x)\n",
    "        f2 = x\n",
    "        x, f3_pre = self.layer2(x)\n",
    "        f3 = x\n",
    "        x, f4_pre = self.layer3(x)\n",
    "        f4 = x\n",
    "        x, f5_pre = self.layer4(x)\n",
    "        f5 = x\n",
    "\n",
    "        x = self.avgpool(x)\n",
    "        x = x.view(x.size(0), -1)\n",
    "        f6 = x\n",
    "        #print('f6:',f6.shape)\n",
    "        ag = self.fc1(ag)\n",
    "        x = torch.cat((ag, x), dim=1)\n",
    "        #print(\"x:\",x.shape)\n",
    "        x = self.fc(x)\n",
    "        #x = self.sig(x)\n",
    "        #print(\"x:\",x.shape)\n",
    "        \n",
    "        if is_feat:\n",
    "            if preact:\n",
    "                return [f0, f1, f2_pre, f3_pre, f4_pre, f5_pre, f6], x\n",
    "            else:\n",
    "                return [f0, f1, f2, f3, f4,f5,f6], x\n",
    "        else:\n",
    "            return x"
   ]
  },
  {
   "cell_type": "code",
   "execution_count": null,
   "id": "d0753e3d",
   "metadata": {
    "execution": {
     "iopub.execute_input": "2022-06-29T15:22:48.602667Z",
     "iopub.status.busy": "2022-06-29T15:22:48.601401Z",
     "iopub.status.idle": "2022-06-29T15:22:48.605013Z",
     "shell.execute_reply": "2022-06-29T15:22:48.604404Z",
     "shell.execute_reply.started": "2022-06-28T12:31:52.638812Z"
    },
    "papermill": {
     "duration": 0.080996,
     "end_time": "2022-06-29T15:22:48.605136",
     "exception": false,
     "start_time": "2022-06-29T15:22:48.524140",
     "status": "completed"
    },
    "tags": []
   },
   "outputs": [],
   "source": [
    "def resnet18(pretrained=False,in_lead = 12, **kwargs):\n",
    "    \"\"\"Constructs a ResNet-18 model.\n",
    "    Args:\n",
    "        pretrained (bool): If True, returns a model pre-trained on ImageNet\n",
    "    \"\"\"\n",
    "    model = ResNet(BasicBlock, [2, 2, 2, 2],in_channel = in_lead, **kwargs)\n",
    "    return model\n"
   ]
  },
  {
   "cell_type": "code",
   "execution_count": null,
   "id": "fbf9128a",
   "metadata": {
    "execution": {
     "iopub.execute_input": "2022-06-29T15:22:48.765244Z",
     "iopub.status.busy": "2022-06-29T15:22:48.764328Z",
     "iopub.status.idle": "2022-06-29T15:22:54.553990Z",
     "shell.execute_reply": "2022-06-29T15:22:54.553430Z",
     "shell.execute_reply.started": "2022-06-28T12:31:52.651166Z"
    },
    "papermill": {
     "duration": 5.868676,
     "end_time": "2022-06-29T15:22:54.554123",
     "exception": false,
     "start_time": "2022-06-29T15:22:48.685447",
     "status": "completed"
    },
    "tags": []
   },
   "outputs": [],
   "source": [
    "dummy_input = torch.randn(batch_size, 6, 5000, dtype=torch.float)\n",
    "age_dummy_input = torch.randn(batch_size, 5, dtype=torch.float)\n",
    "\n",
    "dummy_model = resnet18(in_lead=6)\n",
    "ft,op = dummy_model(dummy_input,age_dummy_input,is_feat = True)\n",
    "print(len(ft),op.shape)"
   ]
  },
  {
   "cell_type": "code",
   "execution_count": null,
   "id": "535750ef",
   "metadata": {
    "execution": {
     "iopub.execute_input": "2022-06-29T15:22:54.708839Z",
     "iopub.status.busy": "2022-06-29T15:22:54.707760Z",
     "iopub.status.idle": "2022-06-29T15:22:54.712585Z",
     "shell.execute_reply": "2022-06-29T15:22:54.712016Z",
     "shell.execute_reply.started": "2022-06-28T12:31:57.222065Z"
    },
    "papermill": {
     "duration": 0.084617,
     "end_time": "2022-06-29T15:22:54.712709",
     "exception": false,
     "start_time": "2022-06-29T15:22:54.628092",
     "status": "completed"
    },
    "tags": []
   },
   "outputs": [],
   "source": [
    "model_parameters = filter(lambda p: p.requires_grad, dummy_model.parameters())\n",
    "params = sum([np.prod(p.size()) for p in model_parameters])\n",
    "print(params) #48M"
   ]
  },
  {
   "cell_type": "markdown",
   "id": "480074fb",
   "metadata": {
    "papermill": {
     "duration": 0.074431,
     "end_time": "2022-06-29T15:22:54.859680",
     "exception": false,
     "start_time": "2022-06-29T15:22:54.785249",
     "status": "completed"
    },
    "tags": []
   },
   "source": [
    "# **CustomResnet**"
   ]
  },
  {
   "cell_type": "code",
   "execution_count": null,
   "id": "dd9b913b",
   "metadata": {
    "execution": {
     "iopub.execute_input": "2022-06-29T15:22:55.014894Z",
     "iopub.status.busy": "2022-06-29T15:22:55.013959Z",
     "iopub.status.idle": "2022-06-29T15:22:55.017212Z",
     "shell.execute_reply": "2022-06-29T15:22:55.016680Z",
     "shell.execute_reply.started": "2022-06-28T12:31:57.234874Z"
    },
    "papermill": {
     "duration": 0.083648,
     "end_time": "2022-06-29T15:22:55.017410",
     "exception": false,
     "start_time": "2022-06-29T15:22:54.933762",
     "status": "completed"
    },
    "tags": []
   },
   "outputs": [],
   "source": [
    "def conv1d(in_planes, out_planes, kernel_size, strides=1,padding='same', bias=True):\n",
    "    return nn.Conv1d(in_planes, out_planes, kernel_size=kernel_size, stride=strides,padding=padding, bias=bias)"
   ]
  },
  {
   "cell_type": "code",
   "execution_count": null,
   "id": "bd1efdab",
   "metadata": {
    "execution": {
     "iopub.execute_input": "2022-06-29T15:22:55.172786Z",
     "iopub.status.busy": "2022-06-29T15:22:55.171905Z",
     "iopub.status.idle": "2022-06-29T15:22:55.175189Z",
     "shell.execute_reply": "2022-06-29T15:22:55.174607Z",
     "shell.execute_reply.started": "2022-06-28T12:31:57.246955Z"
    },
    "papermill": {
     "duration": 0.084581,
     "end_time": "2022-06-29T15:22:55.175340",
     "exception": false,
     "start_time": "2022-06-29T15:22:55.090759",
     "status": "completed"
    },
    "tags": []
   },
   "outputs": [],
   "source": [
    "class Cust_SELayer(nn.Module):\n",
    "    def __init__(self, channel, reduction=8):\n",
    "        super(Cust_SELayer, self).__init__()\n",
    "        self.avg_pool = nn.AdaptiveAvgPool1d(1)\n",
    "        self.fc = nn.Sequential(\n",
    "            nn.Linear(channel, channel // reduction, bias=False),\n",
    "            nn.ReLU(inplace=True),\n",
    "            nn.Linear(channel // reduction, channel, bias=False),\n",
    "            nn.Sigmoid()\n",
    "        )\n",
    "\n",
    "    def forward(self, x):\n",
    "        b, c, _ = x.size()\n",
    "        y = self.avg_pool(x).view(b, c)\n",
    "        y = self.fc(y).view(b, c, 1)\n",
    "        return x * y.expand_as(x)"
   ]
  },
  {
   "cell_type": "code",
   "execution_count": null,
   "id": "cecbd9b9",
   "metadata": {
    "execution": {
     "iopub.execute_input": "2022-06-29T15:22:55.335656Z",
     "iopub.status.busy": "2022-06-29T15:22:55.332540Z",
     "iopub.status.idle": "2022-06-29T15:22:55.338299Z",
     "shell.execute_reply": "2022-06-29T15:22:55.338901Z",
     "shell.execute_reply.started": "2022-06-28T12:31:57.257035Z"
    },
    "papermill": {
     "duration": 0.09043,
     "end_time": "2022-06-29T15:22:55.339049",
     "exception": false,
     "start_time": "2022-06-29T15:22:55.248619",
     "status": "completed"
    },
    "tags": []
   },
   "outputs": [],
   "source": [
    "class Cust_BasicBlock(nn.Module):\n",
    "    expansion = 1\n",
    "\n",
    "    def __init__(self, in_planes, out_channels, kernel_size=8, stride=1, padding='same', bias=False, downsample=None, is_last = False):\n",
    "        super().__init__()\n",
    "        self.is_last = is_last\n",
    "        self.conv1 = conv1d(in_planes, out_channels,kernel_size, strides = (1 if not downsample else 2), padding= ('same' if not downsample else 3))\n",
    "        self.relu = nn.ReLU(inplace=True)\n",
    "        self.bn1 = nn.BatchNorm1d(out_channels)\n",
    "        self.conv2 = conv1d(out_channels, out_channels,kernel_size, strides = 1)\n",
    "        self.se = Cust_SELayer(out_channels)\n",
    "        self.downsample = downsample\n",
    "        self.bn2 = nn.BatchNorm1d(out_channels)\n",
    "\n",
    "    def forward(self, x):\n",
    "        residual = x\n",
    "\n",
    "        out = self.conv1(x)\n",
    "        out = self.relu(out)\n",
    "        out = self.bn1(out)\n",
    "        out = self.conv2(out)\n",
    "        out = self.se(out)\n",
    "        if self.downsample is not None:\n",
    "            residual = self.downsample(x)\n",
    "#         print(x.size())\n",
    "#         print(residual.size())\n",
    "#         print(out.size())\n",
    "        out += residual\n",
    "        preact = out\n",
    "        out = self.relu(out)\n",
    "        out = self.bn2(out)    \n",
    "        if self.is_last:\n",
    "            return out, preact\n",
    "        else:\n",
    "            return out\n",
    "\n"
   ]
  },
  {
   "cell_type": "code",
   "execution_count": null,
   "id": "cf8f22ab",
   "metadata": {
    "execution": {
     "iopub.execute_input": "2022-06-29T15:22:55.510535Z",
     "iopub.status.busy": "2022-06-29T15:22:55.505165Z",
     "iopub.status.idle": "2022-06-29T15:22:55.514204Z",
     "shell.execute_reply": "2022-06-29T15:22:55.513621Z",
     "shell.execute_reply.started": "2022-06-28T12:31:57.272513Z"
    },
    "papermill": {
     "duration": 0.09847,
     "end_time": "2022-06-29T15:22:55.514359",
     "exception": false,
     "start_time": "2022-06-29T15:22:55.415889",
     "status": "completed"
    },
    "tags": []
   },
   "outputs": [],
   "source": [
    "class Cust_Resnet(nn.Module):\n",
    "    def __init__(self, block, layers, input_channel, num_classes):\n",
    "        super(Cust_Resnet, self).__init__()\n",
    "        \n",
    "        self.in_channel = 16\n",
    "    \n",
    "        self.conv1 = nn.Conv1d(input_channel, 16, kernel_size=8, padding = 'same')\n",
    "        self.relu = nn.ReLU(inplace=True)\n",
    "        \n",
    "        self.layer1 = self._make_layer(block, layers[0],out_channels = 16 )\n",
    "        self.layer2 = self._make_layer(block,layers[1],out_channels = 32)\n",
    "        self.layer3 = self._make_layer(block,layers[2],out_channels = 64)\n",
    "        self.avg_pool = nn.AdaptiveAvgPool1d(1)\n",
    "        self.fc = nn.Linear(5, 10)\n",
    "        self.fc1 = nn.Linear(64+10, 128)\n",
    "        self.fc2 = nn.Linear(128, num_classes)\n",
    "        self.sigmoid = nn.Sigmoid()\n",
    "    \n",
    "    def _make_layer(self, block, num_residual_block, out_channels):\n",
    "        downsample = None\n",
    "        layers = []\n",
    "        if self.in_channel != out_channels * block.expansion:\n",
    "                downsample = conv1d(self.in_channel, out_channels*block.expansion,kernel_size=1, strides=2, padding=0)\n",
    "\n",
    "        layers.append( block(in_planes=self.in_channel,out_channels =out_channels,stride=1,downsample=downsample, is_last=(num_residual_block==1)))\n",
    "        self.in_channel = out_channels * block.expansion\n",
    "        for i in range(1, num_residual_block):\n",
    "            layers.append(block(self.in_channel, out_channels,is_last=(i==num_residual_block-1)))\n",
    "        return nn.Sequential(*layers)\n",
    "\n",
    "    def forward(self,x,ag,is_feat=False, preact=False):\n",
    "        #print('x:',x.shape)\n",
    "        x= self.conv1(x)\n",
    "        #print('x conv:',x.shape)\n",
    "        x= self.relu(x)\n",
    "        f0 = x\n",
    "        \n",
    "        x,f1_pre= self.layer1(x)\n",
    "        f1 = x\n",
    "        #print('x1:',x.shape)\n",
    "        \n",
    "        x,f2_pre= self.layer2(x)\n",
    "        f2 = x\n",
    "        #print('x2:',x.shape)\n",
    "        \n",
    "        x,f3_pre= self.layer3(x)\n",
    "        f3 = x\n",
    "        #print('x3:',x.shape)\n",
    "        \n",
    "        x= self.avg_pool(x)\n",
    "        #print('x pool:',x.shape)\n",
    "        x = x.view(x.size(0), -1)\n",
    "        f4 = x\n",
    "        #print('f4:',f4.shape)\n",
    "        #print('x:',x.shape)\n",
    "        ag = self.fc(ag)\n",
    "        #print('ag:',ag.shape)\n",
    "        x = torch.cat((ag, x), dim=1)\n",
    "        #print('concatenate:',x.shape)\n",
    "        x = self.fc1(x)\n",
    "        #print('fc1:',x.shape)\n",
    "        x = self.fc2(x)\n",
    "        #print('x:',x.shape)\n",
    "#         x = self.sigmoid(x)\n",
    "\n",
    "        if is_feat:\n",
    "            if preact:\n",
    "                return [f0, f1_pre, f2_pre, f3_pre, f4], x\n",
    "            else:\n",
    "                return [f0, f1, f2, f3, f4], x\n",
    "        else:\n",
    "            return x\n"
   ]
  },
  {
   "cell_type": "code",
   "execution_count": null,
   "id": "4dee2c7b",
   "metadata": {
    "execution": {
     "iopub.execute_input": "2022-06-29T15:22:55.672605Z",
     "iopub.status.busy": "2022-06-29T15:22:55.671674Z",
     "iopub.status.idle": "2022-06-29T15:22:55.674405Z",
     "shell.execute_reply": "2022-06-29T15:22:55.674899Z",
     "shell.execute_reply.started": "2022-06-28T12:31:57.292409Z"
    },
    "papermill": {
     "duration": 0.08504,
     "end_time": "2022-06-29T15:22:55.675047",
     "exception": false,
     "start_time": "2022-06-29T15:22:55.590007",
     "status": "completed"
    },
    "tags": []
   },
   "outputs": [],
   "source": [
    "def CustomResnet(input_channel, num_classes=24):\n",
    "    return Cust_Resnet(Cust_BasicBlock, [1,1,1], input_channel, num_classes)"
   ]
  },
  {
   "cell_type": "code",
   "execution_count": null,
   "id": "a703a9cc",
   "metadata": {
    "execution": {
     "iopub.execute_input": "2022-06-29T15:22:55.833759Z",
     "iopub.status.busy": "2022-06-29T15:22:55.832780Z",
     "iopub.status.idle": "2022-06-29T15:22:56.505374Z",
     "shell.execute_reply": "2022-06-29T15:22:56.505870Z",
     "shell.execute_reply.started": "2022-06-28T12:31:57.304078Z"
    },
    "papermill": {
     "duration": 0.754863,
     "end_time": "2022-06-29T15:22:56.506064",
     "exception": false,
     "start_time": "2022-06-29T15:22:55.751201",
     "status": "completed"
    },
    "tags": []
   },
   "outputs": [],
   "source": [
    "dummy_input = torch.randn(batch_size, 6, 5000, dtype=torch.float)\n",
    "age_dummy_input = torch.randn(batch_size, 5, dtype=torch.float)\n",
    "\n",
    "dummy_model = CustomResnet(input_channel=6)\n",
    "ft,op = dummy_model(dummy_input,age_dummy_input,is_feat = True)\n",
    "print(len(ft),op.shape)"
   ]
  },
  {
   "cell_type": "code",
   "execution_count": null,
   "id": "f22e5e99",
   "metadata": {
    "execution": {
     "iopub.execute_input": "2022-06-29T15:22:56.669475Z",
     "iopub.status.busy": "2022-06-29T15:22:56.664665Z",
     "iopub.status.idle": "2022-06-29T15:22:56.672542Z",
     "shell.execute_reply": "2022-06-29T15:22:56.673088Z",
     "shell.execute_reply.started": "2022-06-28T12:31:57.870237Z"
    },
    "papermill": {
     "duration": 0.088906,
     "end_time": "2022-06-29T15:22:56.673243",
     "exception": false,
     "start_time": "2022-06-29T15:22:56.584337",
     "status": "completed"
    },
    "tags": []
   },
   "outputs": [],
   "source": [
    "model_parameters = filter(lambda p: p.requires_grad, dummy_model.parameters())\n",
    "params = sum([np.prod(p.size()) for p in model_parameters])\n",
    "print(params) #48M"
   ]
  },
  {
   "cell_type": "code",
   "execution_count": null,
   "id": "2d71a5de",
   "metadata": {
    "execution": {
     "iopub.execute_input": "2022-06-29T15:22:56.859596Z",
     "iopub.status.busy": "2022-06-29T15:22:56.852057Z",
     "iopub.status.idle": "2022-06-29T15:22:56.862733Z",
     "shell.execute_reply": "2022-06-29T15:22:56.862245Z",
     "shell.execute_reply.started": "2022-06-28T12:31:57.880442Z"
    },
    "papermill": {
     "duration": 0.11117,
     "end_time": "2022-06-29T15:22:56.862857",
     "exception": false,
     "start_time": "2022-06-29T15:22:56.751687",
     "status": "completed"
    },
    "tags": []
   },
   "outputs": [],
   "source": [
    "# Check if the input is a number.\n",
    "def is_number(x):\n",
    "    try:\n",
    "        float(x)\n",
    "        return True\n",
    "    except ValueError:\n",
    "        return False\n",
    "\n",
    "\n",
    "# Load a table with row and column names.\n",
    "def load_table(table_file):\n",
    "    # The table should have the following form:\n",
    "    #\n",
    "    # ,    a,   b,   c\n",
    "    # a, 1.2, 2.3, 3.4\n",
    "    # b, 4.5, 5.6, 6.7\n",
    "    # c, 7.8, 8.9, 9.0\n",
    "    #\n",
    "    table = list()\n",
    "    with open(table_file, 'r') as f:\n",
    "        for i, l in enumerate(f):\n",
    "            arrs = [arr.strip() for arr in l.split(',')]\n",
    "            table.append(arrs)\n",
    "\n",
    "    # Define the numbers of rows and columns and check for errors.\n",
    "    num_rows = len(table)-1\n",
    "    if num_rows<1:\n",
    "        raise Exception('The table {} is empty.'.format(table_file))\n",
    "\n",
    "    num_cols = set(len(table[i])-1 for i in range(num_rows))\n",
    "    if len(num_cols)!=1:\n",
    "        raise Exception('The table {} has rows with different lengths.'.format(table_file))\n",
    "    num_cols = min(num_cols)\n",
    "    if num_cols<1:\n",
    "        raise Exception('The table {} is empty.'.format(table_file))\n",
    "\n",
    "    # Find the row and column labels.\n",
    "    rows = [table[0][j+1] for j in range(num_rows)]\n",
    "    cols = [table[i+1][0] for i in range(num_cols)]\n",
    "\n",
    "    # Find the entries of the table.\n",
    "    values = np.zeros((num_rows, num_cols))\n",
    "    for i in range(num_rows):\n",
    "        for j in range(num_cols):\n",
    "            value = table[i+1][j+1]\n",
    "            if is_number(value):\n",
    "                values[i, j] = float(value)\n",
    "            else:\n",
    "                values[i, j] = float('nan')\n",
    "\n",
    "    return rows, cols, values\n",
    "\n",
    "\n",
    "\n",
    "# Load weights.\n",
    "def load_weights(weight_file, classes):\n",
    "    # Load the weight matrix.\n",
    "    rows, cols, values = load_table(weight_file)\n",
    "    assert(rows == cols)\n",
    "    num_rows = len(rows)\n",
    "\n",
    "    # Assign the entries of the weight matrix with rows and columns corresponding to the classes.\n",
    "    num_classes = len(classes)\n",
    "    weights = np.zeros((num_classes, num_classes), dtype=np.float64)\n",
    "    for i, a in enumerate(rows):\n",
    "        if a in classes:\n",
    "            k = classes.index(a)\n",
    "            for j, b in enumerate(rows):\n",
    "                if b in classes:\n",
    "                    l = classes.index(b)\n",
    "                    weights[k, l] = values[i, j]\n",
    "\n",
    "    return weights\n",
    "\n",
    "# Compute modified confusion matrix for multi-class, multi-label tasks.\n",
    "def compute_modified_confusion_matrix(labels, outputs):\n",
    "    # Compute a binary multi-class, multi-label confusion matrix, where the rows\n",
    "    # are the labels and the columns are the outputs.\n",
    "    num_recordings, num_classes = np.shape(labels)\n",
    "    A = np.zeros((num_classes, num_classes))\n",
    "\n",
    "    # Iterate over all of the recordings.\n",
    "    for i in range(num_recordings):\n",
    "        # Calculate the number of positive labels and/or outputs.\n",
    "        normalization = float(max(np.sum(np.any((labels[i, :], outputs[i, :]), axis=0)), 1))\n",
    "        # Iterate over all of the classes.\n",
    "        for j in range(num_classes):\n",
    "            # Assign full and/or partial credit for each positive class.\n",
    "            if labels[i, j]:\n",
    "                for k in range(num_classes):\n",
    "                    if outputs[i, k]:\n",
    "                        A[j, k] += 1.0/normalization\n",
    "\n",
    "    return A\n",
    "\n",
    "\n",
    "# Compute the evaluation metric for the Challenge.\n",
    "def compute_challenge_metric(weights, labels, outputs, classes, normal_class):\n",
    "    num_recordings, num_classes = np.shape(labels)\n",
    "    normal_index = classes.index(normal_class)\n",
    "\n",
    "    # Compute the observed score.\n",
    "    A = compute_modified_confusion_matrix(labels, outputs)\n",
    "    observed_score = np.nansum(weights * A)\n",
    "\n",
    "    # Compute the score for the model that always chooses the correct label(s).\n",
    "    correct_outputs = labels\n",
    "    A = compute_modified_confusion_matrix(labels, correct_outputs)\n",
    "    correct_score = np.nansum(weights * A)\n",
    "\n",
    "    # Compute the score for the model that always chooses the normal class.\n",
    "    inactive_outputs = np.zeros((num_recordings, num_classes), dtype=np.bool)\n",
    "    inactive_outputs[:, normal_index] = 1\n",
    "    A = compute_modified_confusion_matrix(labels, inactive_outputs)\n",
    "    inactive_score = np.nansum(weights * A)\n",
    "\n",
    "    if correct_score != inactive_score:\n",
    "        normalized_score = float(observed_score - inactive_score) / float(correct_score - inactive_score)\n",
    "    else:\n",
    "        normalized_score = float('nan')\n",
    "\n",
    "    return normalized_score\n",
    "\n",
    "#F1score\n",
    "def cal_Acc(y_true, y_pre, threshold=0.5, num_classes=9, beta=2, normal=False):\n",
    "    \n",
    "    y_true = y_true.cpu().detach().numpy().astype(np.int)\n",
    "\n",
    "    y_label = np.zeros(y_true.shape)\n",
    "    # Generate the one hot encoding labels\n",
    "    _, y_pre_label = torch.max(y_pre, 1)\n",
    "    y_pre_label = y_pre_label.cpu().detach().numpy()\n",
    "\n",
    "    y_label[np.arange(y_true.shape[0]), y_pre_label] = 1\n",
    "    y_prob = y_pre.cpu().detach().numpy()\n",
    "    y_pre = y_pre.cpu().detach().numpy() >= threshold\n",
    "\n",
    "\n",
    "    y_label = y_label + y_pre\n",
    "    y_label[y_label > 1.1] = 1\n",
    "\n",
    "    labels = y_true\n",
    "    binary_outputs = y_label\n",
    "\n",
    "\n",
    "    # Define the weights, the SNOMED CT code for the normal class, and equivalent SNOMED CT codes.\n",
    "    weights_file = '../input/physionet-2020/weights.csv'\n",
    "    normal_class = '426783006'\n",
    "\n",
    "    # Get the label\n",
    "    label_file_dir = '../input/physionet-2020/dx_mapping_scored.csv'\n",
    "    label_file = pd.read_csv(label_file_dir)\n",
    "    equivalent_classes = ['59118001', '63593006', '17338001']\n",
    "    classes = sorted(list(set([str(name) for name in label_file['SNOMED CT Code']]) - set(equivalent_classes)))\n",
    "    \n",
    "\n",
    "    weights = load_weights(weights_file, classes)\n",
    "\n",
    "    # Only consider classes that are scored with the Challenge metric.\n",
    "    indices = np.any(weights, axis=0) # Find indices of classes in weight matrix.\n",
    "    classes = [x for i, x in enumerate(classes) if indices[i]]\n",
    "    labels = labels[:, indices]\n",
    "    binary_outputs = binary_outputs[:, indices]\n",
    "    weights = weights[np.ix_(indices, indices)]\n",
    "\n",
    "    challenge_metric = compute_challenge_metric(weights, labels, binary_outputs, classes, normal_class)\n",
    "\n",
    "    # Return the results.\n",
    "    return challenge_metric"
   ]
  },
  {
   "cell_type": "code",
   "execution_count": null,
   "id": "b725a7f7",
   "metadata": {
    "execution": {
     "iopub.execute_input": "2022-06-29T15:22:57.034038Z",
     "iopub.status.busy": "2022-06-29T15:22:57.032889Z",
     "iopub.status.idle": "2022-06-29T15:22:57.036162Z",
     "shell.execute_reply": "2022-06-29T15:22:57.035587Z",
     "shell.execute_reply.started": "2022-06-28T12:31:57.915958Z"
    },
    "papermill": {
     "duration": 0.098786,
     "end_time": "2022-06-29T15:22:57.036338",
     "exception": false,
     "start_time": "2022-06-29T15:22:56.937552",
     "status": "completed"
    },
    "tags": []
   },
   "outputs": [],
   "source": [
    "# Compute macro AUROC and macro AUPRC.\n",
    "def compute_auc(labels, outputs):\n",
    "    \n",
    "    num_recordings, num_classes = np.shape(labels)\n",
    "    outputs = outputs.cpu().detach().numpy().astype(np.int)\n",
    "    labels = labels.cpu().detach().numpy().astype(np.int)\n",
    "    # Compute and summarize the confusion matrices for each class across at distinct output values.\n",
    "    auroc = np.zeros(num_classes)\n",
    "    auprc = np.zeros(num_classes)\n",
    "\n",
    "    for k in range(num_classes):\n",
    "        # We only need to compute TPs, FPs, FNs, and TNs at distinct output values.\n",
    "        thresholds = np.unique(outputs[:, k])\n",
    "        thresholds = np.append(thresholds, thresholds[-1]+1)\n",
    "        thresholds = thresholds[::-1]\n",
    "        num_thresholds = len(thresholds)\n",
    "\n",
    "        # Initialize the TPs, FPs, FNs, and TNs.\n",
    "        tp = np.zeros(num_thresholds)\n",
    "        fp = np.zeros(num_thresholds)\n",
    "        fn = np.zeros(num_thresholds)\n",
    "        tn = np.zeros(num_thresholds)\n",
    "        fn[0] = np.sum(labels[:, k]==1)\n",
    "        tn[0] = np.sum(labels[:, k]==0)\n",
    "\n",
    "        # Find the indices that result in sorted output values.\n",
    "        idx = np.argsort(outputs[:, k])[::-1]\n",
    "\n",
    "        # Compute the TPs, FPs, FNs, and TNs for class k across thresholds.\n",
    "        i = 0\n",
    "        for j in range(1, num_thresholds):\n",
    "            # Initialize TPs, FPs, FNs, and TNs using values at previous threshold.\n",
    "            tp[j] = tp[j-1]\n",
    "            fp[j] = fp[j-1]\n",
    "            fn[j] = fn[j-1]\n",
    "            tn[j] = tn[j-1]\n",
    "\n",
    "            # Update the TPs, FPs, FNs, and TNs at i-th output value.\n",
    "            while i < num_recordings and outputs[idx[i], k] >= thresholds[j]:\n",
    "                if labels[idx[i], k]:\n",
    "                    tp[j] += 1\n",
    "                    fn[j] -= 1\n",
    "                else:\n",
    "                    fp[j] += 1\n",
    "                    tn[j] -= 1\n",
    "                i += 1\n",
    "\n",
    "        # Summarize the TPs, FPs, FNs, and TNs for class k.\n",
    "        tpr = np.zeros(num_thresholds)\n",
    "        tnr = np.zeros(num_thresholds)\n",
    "        ppv = np.zeros(num_thresholds)\n",
    "        npv = np.zeros(num_thresholds)\n",
    "\n",
    "        for j in range(num_thresholds):\n",
    "            if tp[j] + fn[j]:\n",
    "                tpr[j] = float(tp[j]) / float(tp[j] + fn[j])\n",
    "            else:\n",
    "                tpr[j] = float('nan')\n",
    "            if fp[j] + tn[j]:\n",
    "                tnr[j] = float(tn[j]) / float(fp[j] + tn[j])\n",
    "            else:\n",
    "                tnr[j] = float('nan')\n",
    "            if tp[j] + fp[j]:\n",
    "                ppv[j] = float(tp[j]) / float(tp[j] + fp[j])\n",
    "            else:\n",
    "                ppv[j] = float('nan')\n",
    "\n",
    "        #print(\"Sensitivity(tpr):\",tpr,\" Specificity:\",1-tnr)\n",
    "        # Compute AUROC as the area under a piecewise linear function with TPR/\n",
    "        # sensitivity (x-axis) and TNR/specificity (y-axis) and AUPRC as the area\n",
    "        # under a piecewise constant with TPR/recall (x-axis) and PPV/precision\n",
    "        # (y-axis) for class k.\n",
    "        for j in range(num_thresholds-1):\n",
    "            auroc[k] += 0.5 * (tpr[j+1] - tpr[j]) * (tnr[j+1] + tnr[j])\n",
    "            auprc[k] += (tpr[j+1] - tpr[j]) * ppv[j+1]\n",
    "\n",
    "    # Compute macro AUROC and macro AUPRC across classes.\n",
    "    #print(\"auroc shape:\",auroc.shape,\"\\nauroc:\",auroc) #Class-wise aucroc\n",
    "    macro_auroc = np.nanmean(auroc)\n",
    "    macro_auprc = np.nanmean(auprc)\n",
    "\n",
    "    return auroc, auprc"
   ]
  },
  {
   "cell_type": "code",
   "execution_count": null,
   "id": "2c991e52",
   "metadata": {
    "execution": {
     "iopub.execute_input": "2022-06-29T15:22:57.193421Z",
     "iopub.status.busy": "2022-06-29T15:22:57.192539Z",
     "iopub.status.idle": "2022-06-29T15:22:57.195756Z",
     "shell.execute_reply": "2022-06-29T15:22:57.195168Z",
     "shell.execute_reply.started": "2022-06-28T12:31:57.937369Z"
    },
    "papermill": {
     "duration": 0.084064,
     "end_time": "2022-06-29T15:22:57.195905",
     "exception": false,
     "start_time": "2022-06-29T15:22:57.111841",
     "status": "completed"
    },
    "tags": []
   },
   "outputs": [],
   "source": [
    "class optim_genetics:\n",
    "    def __init__(self, target, outputs, classes):\n",
    "        self.target = target\n",
    "        self.outputs = outputs\n",
    "        weights_file = '../input/physionet-2020/weights.csv'\n",
    "        self.normal_class = '426783006'\n",
    "        equivalent_classes = [['713427006', '59118001'],\n",
    "                              ['284470004', '63593006'],\n",
    "                              ['427172004', '17338001']]\n",
    "\n",
    "        # Load the scored classes and the weights for the Challenge metric.\n",
    "        self.weights = load_weights(weights_file, classes)\n",
    "        self.classes = classes\n",
    "        # match classed ordering\n",
    "        # reorder = [self.classes.index(c) for c in classes]\n",
    "        # self.outputs = self.outputs[:, reorder]\n",
    "        # self.target = self.target[:, reorder]\n",
    "        stop = 1\n",
    "\n",
    "    def __call__(self, x):\n",
    "        outputs = copy.deepcopy(self.outputs)\n",
    "        outputs = outputs > x\n",
    "        outputs = np.array(outputs, dtype=int)\n",
    "        return -compute_challenge_metric(self.weights, self.target, outputs, self.classes, self.normal_class)"
   ]
  },
  {
   "cell_type": "code",
   "execution_count": null,
   "id": "922d6864",
   "metadata": {
    "execution": {
     "iopub.execute_input": "2022-06-29T15:22:57.356303Z",
     "iopub.status.busy": "2022-06-29T15:22:57.355225Z",
     "iopub.status.idle": "2022-06-29T15:22:57.358566Z",
     "shell.execute_reply": "2022-06-29T15:22:57.358004Z",
     "shell.execute_reply.started": "2022-06-28T12:31:57.949Z"
    },
    "papermill": {
     "duration": 0.089307,
     "end_time": "2022-06-29T15:22:57.358698",
     "exception": false,
     "start_time": "2022-06-29T15:22:57.269391",
     "status": "completed"
    },
    "tags": []
   },
   "outputs": [],
   "source": [
    "def find_thresholds(t,y, class_codes):\n",
    "\n",
    "    N = 24\n",
    "    f1prcT = np.zeros((N,))\n",
    "    f1rocT = np.zeros((N,))\n",
    "\n",
    "    for j in range(N):\n",
    "        prc, rec, thr = precision_recall_curve(y_true=t[:, j], probas_pred=y[:, j])\n",
    "        fscore = 2 * prc * rec / (prc + rec)\n",
    "        idx = np.nanargmax(fscore)\n",
    "        f1prc = np.nanmax(fscore)\n",
    "        f1prcT[j] = thr[idx]\n",
    "\n",
    "        fpr, tpr, thr = roc_curve(y_true=t[:, j], y_score=y[:, j])\n",
    "        fscore = 2 * (1 - fpr) * tpr / (1 - fpr + tpr)\n",
    "        idx = np.nanargmax(fscore)\n",
    "        f1roc = np.nanmax(fscore)\n",
    "        f1rocT[j] = thr[idx]\n",
    "\n",
    "    population = np.random.rand(300, N)\n",
    "    for i in range(1, 99):\n",
    "        population[i, :] = i / 100\n",
    "\n",
    "#     print(f1prcT)\n",
    "#     print(f1rocT)\n",
    "    population[100] = f1rocT\n",
    "    population[101] = f1prcT\n",
    "    bounds = [(0, 1) for i in range(N)]\n",
    "    print('Differential_evolution started...')\n",
    "    result = differential_evolution(optim_genetics(t, y, class_codes), bounds=bounds, disp=True, init=population, workers=-1)\n",
    "    print('Differential_evolution ended...')\n",
    "#     print(result)\n",
    "    return result.x\n"
   ]
  },
  {
   "cell_type": "code",
   "execution_count": null,
   "id": "8d8e79f0",
   "metadata": {
    "execution": {
     "iopub.execute_input": "2022-06-29T15:22:57.516326Z",
     "iopub.status.busy": "2022-06-29T15:22:57.515287Z",
     "iopub.status.idle": "2022-06-29T15:22:57.594821Z",
     "shell.execute_reply": "2022-06-29T15:22:57.593851Z",
     "shell.execute_reply.started": "2022-06-28T12:31:57.963138Z"
    },
    "papermill": {
     "duration": 0.158949,
     "end_time": "2022-06-29T15:22:57.595003",
     "exception": false,
     "start_time": "2022-06-29T15:22:57.436054",
     "status": "completed"
    },
    "tags": []
   },
   "outputs": [],
   "source": [
    "\n",
    "\n",
    "if torch.cuda.is_available():\n",
    "    device = torch.device(\"cuda\")\n",
    "    device_count = torch.cuda.device_count()\n",
    "    logging.info('using {} gpus'.format(device_count))\n",
    "    assert batch_size % device_count == 0, \"batch size should be divided by device count\"\n",
    "else:\n",
    "    warnings.warn(\"gpu is not available\")\n",
    "    device = torch.device(\"cpu\")\n",
    "    device_count = 1\n",
    "    logging.info('using {} cpu'.format(device_count))"
   ]
  },
  {
   "cell_type": "code",
   "execution_count": null,
   "id": "a23dd4ee",
   "metadata": {
    "execution": {
     "iopub.execute_input": "2022-06-29T15:22:57.751634Z",
     "iopub.status.busy": "2022-06-29T15:22:57.750780Z",
     "iopub.status.idle": "2022-06-29T15:22:57.754937Z",
     "shell.execute_reply": "2022-06-29T15:22:57.754449Z",
     "shell.execute_reply.started": "2022-06-28T12:31:58.046431Z"
    },
    "papermill": {
     "duration": 0.084664,
     "end_time": "2022-06-29T15:22:57.755089",
     "exception": false,
     "start_time": "2022-06-29T15:22:57.670425",
     "status": "completed"
    },
    "tags": []
   },
   "outputs": [],
   "source": [
    "print(device_count)"
   ]
  },
  {
   "cell_type": "code",
   "execution_count": null,
   "id": "59eb8730",
   "metadata": {
    "execution": {
     "iopub.execute_input": "2022-06-29T15:22:57.913013Z",
     "iopub.status.busy": "2022-06-29T15:22:57.912020Z",
     "iopub.status.idle": "2022-06-29T15:22:57.915784Z",
     "shell.execute_reply": "2022-06-29T15:22:57.915102Z",
     "shell.execute_reply.started": "2022-06-28T12:31:58.057277Z"
    },
    "papermill": {
     "duration": 0.085488,
     "end_time": "2022-06-29T15:22:57.915916",
     "exception": false,
     "start_time": "2022-06-29T15:22:57.830428",
     "status": "completed"
    },
    "tags": []
   },
   "outputs": [],
   "source": [
    "# Define the learning rate decay\n",
    "\n",
    "def get_optimizer(opt,model,lr,momentum,weight_decay):\n",
    "    \n",
    "    if opt == 'sgd':\n",
    "        optimizer = optim.SGD(filter(lambda p: p.requires_grad, model.parameters()), lr=lr,\n",
    "                                   momentum=momentum, weight_decay=weight_decay,nestrov = True)\n",
    "    elif opt == 'adam':\n",
    "        optimizer = optim.Adam(filter(lambda p: p.requires_grad, model.parameters()), lr=lr,\n",
    "                                    weight_decay=weight_decay)\n",
    "    else:\n",
    "        raise Exception(\"optimizer not implement\")\n",
    "    \n",
    "    return optimizer"
   ]
  },
  {
   "cell_type": "code",
   "execution_count": null,
   "id": "5c373ebd",
   "metadata": {
    "execution": {
     "iopub.execute_input": "2022-06-29T15:22:58.076674Z",
     "iopub.status.busy": "2022-06-29T15:22:58.075694Z",
     "iopub.status.idle": "2022-06-29T15:22:58.078866Z",
     "shell.execute_reply": "2022-06-29T15:22:58.078166Z",
     "shell.execute_reply.started": "2022-06-28T12:31:58.067716Z"
    },
    "papermill": {
     "duration": 0.085962,
     "end_time": "2022-06-29T15:22:58.079016",
     "exception": false,
     "start_time": "2022-06-29T15:22:57.993054",
     "status": "completed"
    },
    "tags": []
   },
   "outputs": [],
   "source": [
    "# Define the learning rate decay\n",
    "def get_lr_scheduler(lr_scheduler,optimizer,steps,gamma):\n",
    "    \n",
    "    if lr_scheduler == 'step':\n",
    "        steps_list = [int(step) for step in steps.split(',')]\n",
    "        #print(steps_list)\n",
    "        lr_scheduler_fn = optim.lr_scheduler.MultiStepLR(optimizer, steps_list, gamma=gamma)\n",
    "    elif lr_scheduler == 'exp':\n",
    "        lr_scheduler_fn = optim.lr_scheduler.ExponentialLR(optimizer, gamma)\n",
    "    elif lr_scheduler == 'stepLR':\n",
    "        steps = int(steps)\n",
    "        lr_scheduler_fn = optim.lr_scheduler.StepLR(optimizer, steps, gamma)\n",
    "    elif lr_scheduler == 'cos':\n",
    "        steps = int(steps)\n",
    "        lr_scheduler_fn = optim.lr_scheduler.CosineAnnealingLR(optimizer, steps, 0)\n",
    "    elif lr_scheduler == 'fix':\n",
    "        lr_scheduler_fn = None\n",
    "    else:\n",
    "        raise Exception(\"lr schedule not implement\")\n",
    "        \n",
    "    return lr_scheduler_fn"
   ]
  },
  {
   "cell_type": "code",
   "execution_count": null,
   "id": "e19f0b57",
   "metadata": {
    "execution": {
     "iopub.execute_input": "2022-06-29T15:22:58.232626Z",
     "iopub.status.busy": "2022-06-29T15:22:58.231622Z",
     "iopub.status.idle": "2022-06-29T15:22:58.238152Z",
     "shell.execute_reply": "2022-06-29T15:22:58.237587Z",
     "shell.execute_reply.started": "2022-06-28T12:31:58.080407Z"
    },
    "papermill": {
     "duration": 0.085635,
     "end_time": "2022-06-29T15:22:58.238341",
     "exception": false,
     "start_time": "2022-06-29T15:22:58.152706",
     "status": "completed"
    },
    "tags": []
   },
   "outputs": [],
   "source": [
    "# Define the monitoring accuracy\n",
    "def accuracy_measuring_fn(monitor_acc):\n",
    "    \n",
    "    if monitor_acc == 'acc':\n",
    "        cal_acc = None\n",
    "    elif monitor_acc == 'AUC':\n",
    "        cal_acc = RocAucEvaluation\n",
    "    elif monitor_acc == 'ecgAcc':\n",
    "        cal_acc = cal_Acc\n",
    "    else:\n",
    "        raise Exception(\"monitor_acc is not implement\")\n",
    "        \n",
    "    return cal_acc"
   ]
  },
  {
   "cell_type": "code",
   "execution_count": null,
   "id": "736bbf2b",
   "metadata": {
    "execution": {
     "iopub.execute_input": "2022-06-29T15:22:58.400413Z",
     "iopub.status.busy": "2022-06-29T15:22:58.399374Z",
     "iopub.status.idle": "2022-06-29T15:22:58.402611Z",
     "shell.execute_reply": "2022-06-29T15:22:58.401998Z",
     "shell.execute_reply.started": "2022-06-28T12:31:58.088959Z"
    },
    "papermill": {
     "duration": 0.089168,
     "end_time": "2022-06-29T15:22:58.402735",
     "exception": false,
     "start_time": "2022-06-29T15:22:58.313567",
     "status": "completed"
    },
    "tags": []
   },
   "outputs": [],
   "source": [
    "def print_confusion_matrix(confusion_matrix, axes, class_label,class_count, class_names, fontsize=14):\n",
    "\n",
    "    df_cm = pd.DataFrame(\n",
    "        confusion_matrix, index=class_names, columns=class_names,\n",
    "    )\n",
    "\n",
    "    try:\n",
    "        heatmap = sns.heatmap(df_cm, annot=True, fmt=\"d\", cbar=False, ax=axes)\n",
    "    except ValueError:\n",
    "        raise ValueError(\"Confusion matrix values must be integers.\")\n",
    "    heatmap.yaxis.set_ticklabels(heatmap.yaxis.get_ticklabels(), rotation=0, ha='right', fontsize=fontsize)\n",
    "    heatmap.xaxis.set_ticklabels(heatmap.xaxis.get_ticklabels(), rotation=45, ha='right', fontsize=fontsize)\n",
    "    axes.set_ylabel('True label')\n",
    "    axes.set_xlabel('Predicted label')\n",
    "    axes.set_title(\"Confusion Matrix for the class - {} [{}]\".format(class_label,class_count))"
   ]
  },
  {
   "cell_type": "code",
   "execution_count": null,
   "id": "ef2d8873",
   "metadata": {
    "execution": {
     "iopub.execute_input": "2022-06-29T15:22:58.563681Z",
     "iopub.status.busy": "2022-06-29T15:22:58.561434Z",
     "iopub.status.idle": "2022-06-29T15:22:58.566161Z",
     "shell.execute_reply": "2022-06-29T15:22:58.566772Z",
     "shell.execute_reply.started": "2022-06-28T12:31:58.099309Z"
    },
    "papermill": {
     "duration": 0.087689,
     "end_time": "2022-06-29T15:22:58.566925",
     "exception": false,
     "start_time": "2022-06-29T15:22:58.479236",
     "status": "completed"
    },
    "tags": []
   },
   "outputs": [],
   "source": [
    "def plot_graphs(history,epochs):\n",
    "\n",
    "    epoch_list = [i for i in range(epochs)]\n",
    "    logs = list(history.keys())\n",
    "    fig = plt.figure(figsize=(10, 10))\n",
    "    rows = 2\n",
    "    columns = 3\n",
    "    grid = plt.GridSpec(rows, columns, wspace = .25, hspace = .50)\n",
    "    for i in range(len(logs)):\n",
    "        exec (f\"plt.subplot(grid{[i]})\")\n",
    "        if i <=5:\n",
    "            plt.plot(epoch_list, history[logs[i]])\n",
    "            plt.title(logs[i])\n",
    "    plt.show()\n"
   ]
  },
  {
   "cell_type": "code",
   "execution_count": null,
   "id": "c169a77b",
   "metadata": {
    "execution": {
     "iopub.execute_input": "2022-06-29T15:22:58.723595Z",
     "iopub.status.busy": "2022-06-29T15:22:58.722582Z",
     "iopub.status.idle": "2022-06-29T15:22:58.731175Z",
     "shell.execute_reply": "2022-06-29T15:22:58.730597Z",
     "shell.execute_reply.started": "2022-06-28T12:31:58.111005Z"
    },
    "papermill": {
     "duration": 0.08779,
     "end_time": "2022-06-29T15:22:58.731338",
     "exception": false,
     "start_time": "2022-06-29T15:22:58.643548",
     "status": "completed"
    },
    "tags": []
   },
   "outputs": [],
   "source": [
    "def get_predictions(labels,predictions,threshold):\n",
    "    \n",
    "    # Generate the outputs using the threshold\n",
    "    labels_numpy = labels.cpu().detach().numpy().astype(np.int)\n",
    "    \n",
    "    y_label = np.zeros(labels_numpy.shape) #creating a dummy array\n",
    "\n",
    "    _, y_pre_label = torch.max(predictions, 1)\n",
    "    y_pre_label = y_pre_label.cpu().detach().numpy()\n",
    "\n",
    "    y_label[np.arange(labels_numpy.shape[0]), y_pre_label] = 1\n",
    "    y_prob = predictions.cpu().detach().numpy()\n",
    "    y_pre = predictions.cpu().detach().numpy() >= threshold\n",
    "\n",
    "    y_predictions = y_pre + y_label\n",
    "    y_predictions[y_predictions > 1.1] = 1\n",
    "    \n",
    "    return y_predictions\n"
   ]
  },
  {
   "cell_type": "code",
   "execution_count": null,
   "id": "3eb76009",
   "metadata": {
    "execution": {
     "iopub.execute_input": "2022-06-29T15:22:58.890296Z",
     "iopub.status.busy": "2022-06-29T15:22:58.889261Z",
     "iopub.status.idle": "2022-06-29T15:22:58.897537Z",
     "shell.execute_reply": "2022-06-29T15:22:58.896800Z",
     "shell.execute_reply.started": "2022-06-28T12:31:58.121501Z"
    },
    "papermill": {
     "duration": 0.090833,
     "end_time": "2022-06-29T15:22:58.897660",
     "exception": false,
     "start_time": "2022-06-29T15:22:58.806827",
     "status": "completed"
    },
    "tags": []
   },
   "outputs": [],
   "source": [
    "\n",
    "def visulaise_performance(ground_truth,predictions,history,epochs,threshold,class_names,classwise_sample_count):\n",
    "    \n",
    "    \n",
    "    challenge_metric = cal_Acc(ground_truth, predictions, threshold, num_classes=len(class_names))\n",
    "    print('Final Challenge Metric Score',challenge_metric)\n",
    "    \n",
    "    plot_graphs(history,epochs)\n",
    "    auroc,auprc = compute_auc(ground_truth, predictions)\n",
    "    \n",
    "    fig = go.Figure(data=[go.Table(header=dict(values=['classes','AUROC', 'AUPRC']),\n",
    "                 cells=dict(values=[class_names, auroc,auprc]))\n",
    "                     ])\n",
    "    fig.show()\n",
    "\n",
    "    \n",
    "    preds = get_predictions(ground_truth,predictions,threshold)\n",
    "    \n",
    "    macro_f1 = skm.f1_score(ground_truth.cpu().detach().numpy(), preds, average='macro')\n",
    "    micro_f1 = skm.f1_score(ground_truth.cpu().detach().numpy(), preds, average='micro')\n",
    "    weighted_f1 = skm.f1_score(ground_truth.cpu().detach().numpy(), preds, average='weighted')\n",
    "\n",
    "    print('macro_f1 : ', macro_f1)\n",
    "    print('micro_f1 : ', micro_f1)\n",
    "    print('weighted_f1 : ', weighted_f1)\n",
    "    \n",
    "    report = skm.classification_report(ground_truth.cpu().detach().numpy(),preds, target_names = class_names)\n",
    "    \n",
    "    print(report)\n",
    "    \n",
    "    cm = skm.multilabel_confusion_matrix(ground_truth.cpu().detach().numpy(), preds)\n",
    "    \n",
    "    fig, ax = plt.subplots(6, 4, figsize=(22, 10))\n",
    "    \n",
    "    for axes, cfs_matrix, label, class_count in zip(ax.flatten(), cm, class_names, classwise_sample_count):\n",
    "        print_confusion_matrix(cfs_matrix, axes, label,class_count, [\"N\", \"Y\"])\n",
    "\n",
    "    fig.tight_layout()\n",
    "    plt.show()\n"
   ]
  },
  {
   "cell_type": "code",
   "execution_count": null,
   "id": "d90b0ecf",
   "metadata": {
    "execution": {
     "iopub.execute_input": "2022-06-29T15:22:59.054262Z",
     "iopub.status.busy": "2022-06-29T15:22:59.053163Z",
     "iopub.status.idle": "2022-06-29T15:22:59.058639Z",
     "shell.execute_reply": "2022-06-29T15:22:59.058083Z",
     "shell.execute_reply.started": "2022-06-28T12:31:58.13633Z"
    },
    "papermill": {
     "duration": 0.086361,
     "end_time": "2022-06-29T15:22:59.058775",
     "exception": false,
     "start_time": "2022-06-29T15:22:58.972414",
     "status": "completed"
    },
    "tags": []
   },
   "outputs": [],
   "source": [
    "# def focal_loss(inputs,targets,alpha =0.65, gamma = 2 , reduction =\"mean\"):\n",
    "\n",
    "#     loss_fn = nn.BCEWithLogitsLoss()\n",
    "#     p = torch.sigmoid(inputs)\n",
    "#     bce_loss = loss_fn(inputs, targets)\n",
    "#     p_t = p * targets + (1 - p) * (1 - targets)\n",
    "#     loss = bce_loss * ((1 - p_t) ** gamma)\n",
    "\n",
    "#     if alpha >= 0:\n",
    "#         alpha_t = alpha * targets + (1 - alpha) * (1 - targets)\n",
    "#         loss = alpha_t * loss\n",
    "\n",
    "#     if reduction == \"mean\":\n",
    "#         loss = loss.mean()\n",
    "#     elif reduction == \"sum\":\n",
    "#         loss = loss.sum()\n",
    "\n",
    "#     return loss\n",
    "\n"
   ]
  },
  {
   "cell_type": "code",
   "execution_count": null,
   "id": "299f071c",
   "metadata": {
    "execution": {
     "iopub.execute_input": "2022-06-29T15:22:59.223072Z",
     "iopub.status.busy": "2022-06-29T15:22:59.222016Z",
     "iopub.status.idle": "2022-06-29T15:22:59.232897Z",
     "shell.execute_reply": "2022-06-29T15:22:59.232338Z",
     "shell.execute_reply.started": "2022-06-28T12:31:58.148097Z"
    },
    "papermill": {
     "duration": 0.099183,
     "end_time": "2022-06-29T15:22:59.233077",
     "exception": false,
     "start_time": "2022-06-29T15:22:59.133894",
     "status": "completed"
    },
    "tags": []
   },
   "outputs": [],
   "source": [
    "def train(lead,selected_leads,criterion,optimizer,teacher_model,student_model,epoch,dataloader,divergence_loss_fn,KD_params):\n",
    "    \n",
    "    student_model.train()\n",
    "    teacher_model.eval()\n",
    "    \n",
    "    # Define the temp variable\n",
    "    epoch_start = time.time()\n",
    "    epoch_loss = 0.0\n",
    "    distillation_loss = 0.0\n",
    "    \n",
    "    fc2 = nn.Linear(512 , 128).to(device)\n",
    "    fc3 = nn.Linear(128, 64).to(device)\n",
    "\n",
    "\n",
    "    for batch_idx, (inputs, labels, age_gender,input_indices) in (enumerate(dataloader)):\n",
    "        \n",
    "        if selected_leads != None:\n",
    "            lead_pos = [leads[i] for i in selected_leads]\n",
    "            student_inputs = inputs[:,lead_pos,:]\n",
    "        else:\n",
    "            student_inputs = inputs\n",
    "            \n",
    "        teacher_inputs = inputs.to(device)\n",
    "        student_inputs = student_inputs.to(device)\n",
    "        labels = labels.to(device)\n",
    "        age_gender = age_gender.to(device)\n",
    "        \n",
    "        with torch.no_grad():\n",
    "            teacher_features,teacher_logits = teacher_model(teacher_inputs,age_gender,is_feat = True)\n",
    "            teacher_last_feature = fc3(fc2(teacher_features[-1]))\n",
    "            \n",
    "\n",
    "        \n",
    "        # Do the learning process, in val, we do not care about the gradient for relaxing\n",
    "        with torch.set_grad_enabled(True):\n",
    "            \n",
    "            student_features,student_logits = student_model(student_inputs, age_gender,is_feat = True) #check outputs\n",
    "            student_last_feature = student_features[-1]\n",
    "            \n",
    "            sigmoid = nn.Sigmoid()\n",
    "            logits_prob = sigmoid(student_logits)\n",
    "            #print(logits_prob.shape)\n",
    "\n",
    "            #saving the predictions and label\n",
    "            if batch_idx == 0:\n",
    "                labels_all = labels\n",
    "                predictions_all = logits_prob\n",
    "            else:\n",
    "                labels_all = torch.cat((labels_all, labels), 0)\n",
    "                predictions_all = torch.cat((predictions_all, logits_prob), 0)\n",
    "\n",
    "            if 'Focal' in str(criterion):\n",
    "                student_loss = criterion(student_logits,labels,dataloader.dataset.classwise_sample_count,len(dataloader.dataset))\n",
    "            else:\n",
    "                student_loss = criterion(student_logits,labels)\n",
    "                \n",
    "                ditillation_loss1 = divergence_loss_fn(   \n",
    "                F.log_softmax((student_last_feature /  KD_params['temp']), dim = 1),\n",
    "                F.softmax((teacher_last_feature /  KD_params['temp']), dim = 1))\n",
    "\n",
    "            \n",
    "            ditillation_loss2 = divergence_loss_fn(   \n",
    "                F.log_softmax((student_logits / KD_params['temp']), dim = 1),\n",
    "                F.softmax((teacher_logits / KD_params['temp']), dim = 1))\n",
    "            \n",
    "            loss = KD_params['alpha'] * student_loss + 0.5 * (1 - KD_params['alpha']) * ditillation_loss1 + 0.5 * (1 - KD_params['alpha']) * ditillation_loss2\n",
    "\n",
    "                \n",
    "            loss_temp = loss.item() * inputs.size(0)\n",
    "            epoch_loss += loss_temp\n",
    "            \n",
    "            distill_loss = ditillation_loss1.item() * inputs.size(0)\n",
    "            distillation_loss += distill_loss\n",
    "            \n",
    "\n",
    "            optimizer.zero_grad()\n",
    "            loss.backward()\n",
    "            optimizer.step()\n",
    "\n",
    "            \n",
    "    train_auprc = average_precision_score(y_true=labels_all.cpu().detach().numpy(), y_score=predictions_all.cpu().detach().numpy())\n",
    "    \n",
    "    # Print the train and val information via each epoch\n",
    "    epoch_loss = epoch_loss / len(dataloader)\n",
    "    distillation_loss = distillation_loss / len(dataloader)\n",
    "\n",
    "    print('Training: Epoch: {} train-Loss: {:.4f} train-auprc {} distillation-Loss: {:.4f} Cost {:.1f} sec'.format(epoch, epoch_loss, train_auprc,distillation_loss, time.time() - epoch_start))\n",
    "    \n",
    "    return epoch_loss,train_auprc,distillation_loss\n"
   ]
  },
  {
   "cell_type": "code",
   "execution_count": null,
   "id": "d760a500",
   "metadata": {
    "execution": {
     "iopub.execute_input": "2022-06-29T15:22:59.415159Z",
     "iopub.status.busy": "2022-06-29T15:22:59.409573Z",
     "iopub.status.idle": "2022-06-29T15:22:59.417898Z",
     "shell.execute_reply": "2022-06-29T15:22:59.418444Z",
     "shell.execute_reply.started": "2022-06-28T12:31:58.16926Z"
    },
    "papermill": {
     "duration": 0.108961,
     "end_time": "2022-06-29T15:22:59.418632",
     "exception": false,
     "start_time": "2022-06-29T15:22:59.309671",
     "status": "completed"
    },
    "tags": []
   },
   "outputs": [],
   "source": [
    "def validation(lead,selected_leads,criterion, model, epoch, valid_dataloader,batch_size=16):\n",
    "    \n",
    "        \n",
    "        model.eval()\n",
    "        epoch_loss = 0\n",
    "        inp_leads = 12 if selected_leads == None else len(selected_leads)\n",
    "        dummy_input = torch.randn(batch_size, inp_leads, 5000, dtype=torch.float).to(device)\n",
    "        age_dummy_input = torch.randn(batch_size, 5, dtype=torch.float).to(device)\n",
    "        total_time  = 0\n",
    "        \n",
    "        #GPU-WARM-UP: will automatically initialize the GPU and prevent it from going into power-saving mode when we measure time\n",
    "        for _ in range(10):\n",
    "            _ = model(dummy_input,age_dummy_input)\n",
    "\n",
    "        \n",
    "        with torch.no_grad():\n",
    "            starter, ender = torch.cuda.Event(enable_timing=True), torch.cuda.Event(enable_timing=True)\n",
    "\n",
    "            for batch_idx,(inputs ,labels,age_gender, _) in enumerate(valid_dataloader):\n",
    "                \n",
    "                \n",
    "                if selected_leads != None:\n",
    "                    lead_pos = [leads[i] for i in selected_leads]\n",
    "                    inputs = inputs[:,lead_pos,:]\n",
    "                else:\n",
    "                    inputs = inputs\n",
    "\n",
    "                \n",
    "                \n",
    "                inputs = inputs.to(device)\n",
    "                labels = labels.to(device)\n",
    "                age_gender = age_gender.to(device)\n",
    "                \n",
    "                starter.record()\n",
    "                logits = model(inputs,age_gender)\n",
    "                sigmoid = nn.Sigmoid()\n",
    "                logits_prob = sigmoid(logits)\n",
    "                ender.record()\n",
    "                \n",
    "                torch.cuda.synchronize()\n",
    "                curr_time = starter.elapsed_time(ender)/1000 #Returns time elapsed in milliseconds\n",
    "                total_time += curr_time\n",
    "                \n",
    "                if 'Focal' in str(criterion):\n",
    "                    loss = criterion(logits,labels,valid_dataloader.dataset.classwise_sample_count,len(valid_dataloader.dataset))\n",
    "                else:\n",
    "                    loss = criterion(logits,labels)\n",
    "                loss_temp = loss.item() * inputs.size(0)\n",
    "                epoch_loss += loss_temp\n",
    "                \n",
    "\n",
    "                \n",
    "                #storing all the predictions\n",
    "                if batch_idx == 0:  \n",
    "                    labels_all = labels\n",
    "                    predictions_all = logits_prob\n",
    "                else:\n",
    "                    labels_all = torch.cat((labels_all,labels), 0)\n",
    "                    predictions_all = torch.cat((predictions_all, logits_prob), 0)\n",
    "                \n",
    "                    \n",
    "                \n",
    "                    \n",
    "        epoch_loss = epoch_loss / len(valid_dataloader)\n",
    "        \n",
    "        #This formula gives the number of examples our network can process in one second.\n",
    "        Throughput = (batch_size)/total_time\n",
    "        \n",
    "\n",
    "        \n",
    "        valid_auprc = average_precision_score(y_true=labels_all.cpu().detach().numpy(), y_score=predictions_all.cpu().detach().numpy())\n",
    "\n",
    "        print(\"Validation: loss:\",epoch_loss,\" valid_auprc:\",valid_auprc,\" total_time: \",total_time,\" secs\")\n",
    "        \n",
    "        \n",
    "        \n",
    "        return labels_all,predictions_all,epoch_loss,valid_auprc"
   ]
  },
  {
   "cell_type": "code",
   "execution_count": null,
   "id": "d0169052",
   "metadata": {
    "execution": {
     "iopub.execute_input": "2022-06-29T15:22:59.579697Z",
     "iopub.status.busy": "2022-06-29T15:22:59.578544Z",
     "iopub.status.idle": "2022-06-29T15:22:59.593797Z",
     "shell.execute_reply": "2022-06-29T15:22:59.594472Z",
     "shell.execute_reply.started": "2022-06-28T12:31:58.188005Z"
    },
    "papermill": {
     "duration": 0.095849,
     "end_time": "2022-06-29T15:22:59.594624",
     "exception": false,
     "start_time": "2022-06-29T15:22:59.498775",
     "status": "completed"
    },
    "tags": []
   },
   "outputs": [],
   "source": [
    "def runner(idx,leads, selected_leads, teacher_model,student_model, train_dataloader,valid_dataloader,start_epoch,max_epoch,lr_scheduler,lr,criterion,optimizer,divergence_loss_fn,KD_params,save_dir):\n",
    "    \"\"\"\n",
    "    Training process\n",
    "    :return:\n",
    "    \"\"\"\n",
    "\n",
    "    best_acc = 0.0\n",
    "    best_model_name = \"dummy\"\n",
    "    history = {'train_loss': [], 'train_auprc':[],'distillation_loss':[],'val_loss':[],'val_auprc':[]}\n",
    "    \n",
    "     \n",
    "    for epoch in range(start_epoch, max_epoch):\n",
    "\n",
    "        \n",
    "        #Update the learning rate\n",
    "        if lr_scheduler is not None:\n",
    "            lr_scheduler.step(epoch)\n",
    "            logging.info('current lr: {}'.format(lr_scheduler.get_last_lr()))\n",
    "        else:\n",
    "            logging.info('current lr: {}'.format(lr))\n",
    "        \n",
    "        \n",
    "        #------------------------------------------\n",
    "        #                  TRAIN\n",
    "        #-------------------------------------------\n",
    "        \n",
    "        #Stores the predictions from last epoch\n",
    "                                              \n",
    "        train_loss,train_auprc, distillation_loss = train(leads,selected_leads,criterion,optimizer,teacher_model,student_model,epoch,train_dataloader,divergence_loss_fn,KD_params)\n",
    "        \n",
    "        labels,predictions,val_loss,val_auprc = validation(leads,selected_leads,criterion, student_model, epoch, valid_dataloader,batch_size)\n",
    "        \n",
    "        \n",
    "        history['train_loss'].append(train_loss)\n",
    "        history['train_auprc'].append(train_auprc)\n",
    "        history['distillation_loss'].append(distillation_loss)\n",
    "        history['val_loss'].append(val_loss)\n",
    "        history['val_auprc'].append(val_auprc)\n",
    "    \n",
    "        \n",
    "        if val_auprc>best_acc:\n",
    "            best_acc = val_auprc\n",
    "            best_predictions = predictions\n",
    "            best_labels = labels\n",
    "            best_model_name = os.path.join('./', '{}-{:.4f}-best_model-{}.pth'.format(epoch, best_acc,idx))\n",
    "            print(\"------------Saving the model,Best auprc at epoch \",epoch,\" is:\",best_acc,\"----------------\")\n",
    "            torch.save(student_model, best_model_name)\n",
    "    \n",
    "    print('Loading Thresholds...')\n",
    "    threshold = find_thresholds(best_labels.cpu().detach().numpy(), best_predictions.cpu().detach().numpy(), valid_dataloader.dataset.class_codes.tolist())\n",
    "    print('Thresholds generated...')\n",
    "    \n",
    "    with open(save_dir+'/threshold.txt', 'w') as f:                                                                                                \n",
    "        f.write(' '.join(map(str,threshold))) \n",
    "\n",
    "    \n",
    "    print(\"==============================  model {} gives best acc {} for fold-{} ==============================  \".format(best_model_name,best_acc,idx))\n",
    "    visulaise_performance(best_labels,best_predictions,history,max_epoch,threshold,valid_dataloader.dataset.class_names,valid_dataloader.dataset.classwise_sample_count)\n",
    "        "
   ]
  },
  {
   "cell_type": "code",
   "execution_count": null,
   "id": "d6f8ec40",
   "metadata": {
    "execution": {
     "iopub.execute_input": "2022-06-29T15:22:59.764593Z",
     "iopub.status.busy": "2022-06-29T15:22:59.763546Z",
     "iopub.status.idle": "2022-06-29T15:22:59.766919Z",
     "shell.execute_reply": "2022-06-29T15:22:59.766378Z",
     "shell.execute_reply.started": "2022-06-28T12:31:58.205177Z"
    },
    "papermill": {
     "duration": 0.095073,
     "end_time": "2022-06-29T15:22:59.767055",
     "exception": false,
     "start_time": "2022-06-29T15:22:59.671982",
     "status": "completed"
    },
    "tags": []
   },
   "outputs": [],
   "source": [
    "def setting_params(idx,leads, selected_leads,teacher_model_path,opt,momentum,criterion,weight_decay,lr_scheduler,lr,steps,gamma,device):\n",
    "    \n",
    "    datasets = {}\n",
    "    datasets['train'], datasets['val'] = ECG(\"../input/physionet20205folds/\", str(idx)).data_preprare()\n",
    "    train_dataloader = DataLoader(datasets['train'],batch_size=batch_size,shuffle = True)\n",
    "    valid_dataloader = DataLoader(datasets['val'],batch_size=batch_size,shuffle = True)\n",
    "    \n",
    "    inp_leads = 12 if selected_leads == None else len(selected_leads)\n",
    "    \n",
    "    if inp_leads == 12:\n",
    "        print(\"All 12 leads are considered\")\n",
    "    else:\n",
    "        print(\"The leads considered are:\",selected_leads)\n",
    "    \n",
    "\n",
    "    teacher_model = torch.load(teacher_model_path).to(device)\n",
    "    student_model = CustomResnet(input_channel = inp_leads).to(device)\n",
    "\n",
    "    for param in teacher_model.parameters():\n",
    "        param.requires_grad = False\n",
    "\n",
    "    KD_params = { 'alpha':0.3,'temp':7 }\n",
    "    divergence_loss_fn = nn.KLDivLoss(reduction = \"batchmean\")\n",
    "\n",
    "    optimizer = get_optimizer(opt,student_model,lr,momentum,weight_decay)\n",
    "    #lr_scheduler_fn = get_lr_scheduler(lr_scheduler,optimizer,steps,gamma)\n",
    "    lr_scheduler_fn = torch.optim.lr_scheduler.OneCycleLR(optimizer, max_lr=0.01, steps_per_epoch=len(train_dataloader), epochs=max_epoch)\n",
    "    \n",
    "    \n",
    "    \n",
    "    runner(idx, leads,selected_leads,teacher_model,student_model,train_dataloader,valid_dataloader,start_epoch,max_epoch, lr_scheduler_fn, lr,criterion,optimizer,divergence_loss_fn,KD_params,save_dir)"
   ]
  },
  {
   "cell_type": "code",
   "execution_count": null,
   "id": "91aaec6e",
   "metadata": {
    "execution": {
     "iopub.execute_input": "2022-06-29T15:22:59.923956Z",
     "iopub.status.busy": "2022-06-29T15:22:59.922798Z",
     "iopub.status.idle": "2022-06-29T15:22:59.925556Z",
     "shell.execute_reply": "2022-06-29T15:22:59.926100Z",
     "shell.execute_reply.started": "2022-06-28T12:31:58.218401Z"
    },
    "papermill": {
     "duration": 0.083566,
     "end_time": "2022-06-29T15:22:59.926275",
     "exception": false,
     "start_time": "2022-06-29T15:22:59.842709",
     "status": "completed"
    },
    "tags": []
   },
   "outputs": [],
   "source": [
    "#PARAMETERS\n",
    "\n",
    "max_epoch = 90\n",
    "no_folds = 1\n",
    "\n",
    "# Load the checkpoint\n",
    "start_epoch = 0\n",
    "\n",
    "weight_list = ['../input/physionet-2020/magic_weight0.npz', '../input/physionet-2020/magic_weight1.npz', '../input/physionet-2020/magic_weight2.npz','../input/physionet-2020/magic_weight3.npz', '../input/physionet-2020/magic_weight4.npz', '../input/physionet-2020/magic_weight_avg.npz']\n",
    "save_dir = \"./\"\n",
    "teacher_model_path = '../input/pretrained-teacher-models/SERes-0.6830-auprc-12Lead.pth'"
   ]
  },
  {
   "cell_type": "code",
   "execution_count": null,
   "id": "d5ea837e",
   "metadata": {
    "execution": {
     "iopub.execute_input": "2022-06-29T15:23:00.084277Z",
     "iopub.status.busy": "2022-06-29T15:23:00.083525Z",
     "iopub.status.idle": "2022-06-29T15:23:00.086853Z",
     "shell.execute_reply": "2022-06-29T15:23:00.087342Z",
     "shell.execute_reply.started": "2022-06-28T12:31:58.229952Z"
    },
    "papermill": {
     "duration": 0.086191,
     "end_time": "2022-06-29T15:23:00.087501",
     "exception": false,
     "start_time": "2022-06-29T15:23:00.001310",
     "status": "completed"
    },
    "tags": []
   },
   "outputs": [],
   "source": [
    "# Optimizers & Loss fn\n",
    "\n",
    "opt = \"adam\" #optimizer\n",
    "lr = 0.003  #the initial learning rate\n",
    "momentum = 0.9  #the momentum for sgd\n",
    "weight_decay = 1e-5 #the weight decay\n",
    "lr_scheduler = \"step\"        #['step', 'exp', 'stepLR', 'fix', 'cos'] the learning rate schedule\n",
    "gamma = 0.1 #learning rate scheduler parameter for step and exp\n",
    "steps = \"20,40,70\"  #the learning rate decay for step and stepLR\n",
    "monitor_acc = \"ecgAcc\" \n",
    "criterion = nn.BCEWithLogitsLoss()\n",
    "#criterion = WeightedFocalLoss()\n"
   ]
  },
  {
   "cell_type": "code",
   "execution_count": null,
   "id": "47ce7ea3",
   "metadata": {
    "execution": {
     "iopub.execute_input": "2022-06-29T15:23:00.244660Z",
     "iopub.status.busy": "2022-06-29T15:23:00.243610Z",
     "iopub.status.idle": "2022-06-29T19:52:57.781773Z",
     "shell.execute_reply": "2022-06-29T19:52:57.782380Z",
     "shell.execute_reply.started": "2022-06-28T12:31:58.238787Z"
    },
    "papermill": {
     "duration": 16197.618563,
     "end_time": "2022-06-29T19:52:57.782587",
     "exception": false,
     "start_time": "2022-06-29T15:23:00.164024",
     "status": "completed"
    },
    "tags": []
   },
   "outputs": [],
   "source": [
    "for i in range(no_folds):\n",
    "    print(\"------------------------ Fold-\"+str(i)+\" ------------------------\")\n",
    "    setting_params(3,leads,two_leads,teacher_model_path,opt,momentum,criterion,weight_decay,lr_scheduler,lr,steps,gamma,device)"
   ]
  },
  {
   "cell_type": "code",
   "execution_count": null,
   "id": "a53c2343",
   "metadata": {
    "papermill": {
     "duration": 0.244601,
     "end_time": "2022-06-29T19:52:58.270038",
     "exception": false,
     "start_time": "2022-06-29T19:52:58.025437",
     "status": "completed"
    },
    "tags": []
   },
   "outputs": [],
   "source": []
  }
 ],
 "metadata": {
  "kernelspec": {
   "display_name": "Python 3 (ipykernel)",
   "language": "python",
   "name": "python3"
  },
  "language_info": {
   "codemirror_mode": {
    "name": "ipython",
    "version": 3
   },
   "file_extension": ".py",
   "mimetype": "text/x-python",
   "name": "python",
   "nbconvert_exporter": "python",
   "pygments_lexer": "ipython3",
   "version": "3.9.7"
  },
  "papermill": {
   "default_parameters": {},
   "duration": 16254.247156,
   "end_time": "2022-06-29T19:53:01.115015",
   "environment_variables": {},
   "exception": null,
   "input_path": "__notebook__.ipynb",
   "output_path": "__notebook__.ipynb",
   "parameters": {},
   "start_time": "2022-06-29T15:22:06.867859",
   "version": "2.3.3"
  }
 },
 "nbformat": 4,
 "nbformat_minor": 5
}
